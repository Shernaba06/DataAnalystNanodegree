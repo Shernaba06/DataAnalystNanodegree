{
 "cells": [
  {
   "cell_type": "markdown",
   "metadata": {},
   "source": [
    "# Exploring a dataset project\n",
    "## Dataframe selected for the analysis: [IMBD Movies](https://www.kaggle.com/tmdb/tmdb-movie-metadata)<h4>"
   ]
  },
  {
   "cell_type": "markdown",
   "metadata": {},
   "source": [
    "## Table of Contents\n",
    "<ul>\n",
    "<li><a href=\"#intro\">Introduction</a></li>\n",
    "<li><a href=\"#wrangling\">Data Wrangling</a></li>\n",
    "<li><a href=\"#eda1\">Exploratory Data Analysis: Question 1</a></li>\n",
    "<li><a href=\"#eda2\">Exploratory Data Analysis: Question 2</a></li>\n",
    "<li><a href=\"#eda3\">Exploratory Data Analysis: Question 3</a></li>\n",
    "<li><a href=\"#eda4\">Exploratory Data Analysis: Question 4</a></li> \n",
    "<li><a href=\"#conc\">Conclusion</a></li> \n",
    "</ul>"
   ]
  },
  {
   "cell_type": "markdown",
   "metadata": {},
   "source": [
    "<a id='intro'></a>\n",
    "## Introduction"
   ]
  },
  {
   "cell_type": "markdown",
   "metadata": {},
   "source": [
    "The IMBD Movies dataframe selected includes more than 10000 movie information gathered directly from the IMBD page. The data includes information related to title, year of release, cast, director... As well as ratings such as popularity and vote average. It also includes financial data such as budget and revenue."
   ]
  },
  {
   "cell_type": "markdown",
   "metadata": {},
   "source": [
    "## Questions to be answered in the analysis\n",
    "\n",
    "1. Which genres are most popular from year to year?\n",
    "   - 1.1 Is there a general trend from both popularity and vote average? Let's first display the data for all movies regardless of the genre, to check if there has been a clear trend for all the movies\n",
    "   - 1.2 Which are the most popular genres on average for the whole distribution? And what about these that have higher vote averages? Among those which have stand out in any particular moment of time, if any\n",
    "\n",
    "2. Who are the directors that are getting higher profits for their movies? Are these directors among the ones with higher vote averages? Is there a correlation between these two variables?\n",
    "3. Which are the movies that are most profitable? Is there a genre specially profitable?\n",
    "4. Which the main features that make a particular movie very profitable?"
   ]
  },
  {
   "cell_type": "code",
   "execution_count": 1,
   "metadata": {},
   "outputs": [],
   "source": [
    "import pandas as pd\n",
    "import matplotlib.pyplot as plt\n",
    "import seaborn as sns\n",
    "%matplotlib inline"
   ]
  },
  {
   "cell_type": "markdown",
   "metadata": {},
   "source": [
    "When importing the file for the first time we ensure that we are parsing the date fields correctly"
   ]
  },
  {
   "cell_type": "code",
   "execution_count": 2,
   "metadata": {},
   "outputs": [
    {
     "data": {
      "text/html": [
       "<div>\n",
       "<style scoped>\n",
       "    .dataframe tbody tr th:only-of-type {\n",
       "        vertical-align: middle;\n",
       "    }\n",
       "\n",
       "    .dataframe tbody tr th {\n",
       "        vertical-align: top;\n",
       "    }\n",
       "\n",
       "    .dataframe thead th {\n",
       "        text-align: right;\n",
       "    }\n",
       "</style>\n",
       "<table border=\"1\" class=\"dataframe\">\n",
       "  <thead>\n",
       "    <tr style=\"text-align: right;\">\n",
       "      <th></th>\n",
       "      <th>id</th>\n",
       "      <th>imdb_id</th>\n",
       "      <th>popularity</th>\n",
       "      <th>budget</th>\n",
       "      <th>revenue</th>\n",
       "      <th>original_title</th>\n",
       "      <th>cast</th>\n",
       "      <th>homepage</th>\n",
       "      <th>director</th>\n",
       "      <th>tagline</th>\n",
       "      <th>...</th>\n",
       "      <th>overview</th>\n",
       "      <th>runtime</th>\n",
       "      <th>genres</th>\n",
       "      <th>production_companies</th>\n",
       "      <th>release_date</th>\n",
       "      <th>vote_count</th>\n",
       "      <th>vote_average</th>\n",
       "      <th>release_year</th>\n",
       "      <th>budget_adj</th>\n",
       "      <th>revenue_adj</th>\n",
       "    </tr>\n",
       "  </thead>\n",
       "  <tbody>\n",
       "    <tr>\n",
       "      <th>0</th>\n",
       "      <td>135397</td>\n",
       "      <td>tt0369610</td>\n",
       "      <td>32.985763</td>\n",
       "      <td>150000000</td>\n",
       "      <td>1513528810</td>\n",
       "      <td>Jurassic World</td>\n",
       "      <td>Chris Pratt|Bryce Dallas Howard|Irrfan Khan|Vi...</td>\n",
       "      <td>http://www.jurassicworld.com/</td>\n",
       "      <td>Colin Trevorrow</td>\n",
       "      <td>The park is open.</td>\n",
       "      <td>...</td>\n",
       "      <td>Twenty-two years after the events of Jurassic ...</td>\n",
       "      <td>124</td>\n",
       "      <td>Action|Adventure|Science Fiction|Thriller</td>\n",
       "      <td>Universal Studios|Amblin Entertainment|Legenda...</td>\n",
       "      <td>2015-06-09</td>\n",
       "      <td>5562</td>\n",
       "      <td>6.5</td>\n",
       "      <td>2015-01-01</td>\n",
       "      <td>1.379999e+08</td>\n",
       "      <td>1.392446e+09</td>\n",
       "    </tr>\n",
       "    <tr>\n",
       "      <th>1</th>\n",
       "      <td>76341</td>\n",
       "      <td>tt1392190</td>\n",
       "      <td>28.419936</td>\n",
       "      <td>150000000</td>\n",
       "      <td>378436354</td>\n",
       "      <td>Mad Max: Fury Road</td>\n",
       "      <td>Tom Hardy|Charlize Theron|Hugh Keays-Byrne|Nic...</td>\n",
       "      <td>http://www.madmaxmovie.com/</td>\n",
       "      <td>George Miller</td>\n",
       "      <td>What a Lovely Day.</td>\n",
       "      <td>...</td>\n",
       "      <td>An apocalyptic story set in the furthest reach...</td>\n",
       "      <td>120</td>\n",
       "      <td>Action|Adventure|Science Fiction|Thriller</td>\n",
       "      <td>Village Roadshow Pictures|Kennedy Miller Produ...</td>\n",
       "      <td>2015-05-13</td>\n",
       "      <td>6185</td>\n",
       "      <td>7.1</td>\n",
       "      <td>2015-01-01</td>\n",
       "      <td>1.379999e+08</td>\n",
       "      <td>3.481613e+08</td>\n",
       "    </tr>\n",
       "    <tr>\n",
       "      <th>2</th>\n",
       "      <td>262500</td>\n",
       "      <td>tt2908446</td>\n",
       "      <td>13.112507</td>\n",
       "      <td>110000000</td>\n",
       "      <td>295238201</td>\n",
       "      <td>Insurgent</td>\n",
       "      <td>Shailene Woodley|Theo James|Kate Winslet|Ansel...</td>\n",
       "      <td>http://www.thedivergentseries.movie/#insurgent</td>\n",
       "      <td>Robert Schwentke</td>\n",
       "      <td>One Choice Can Destroy You</td>\n",
       "      <td>...</td>\n",
       "      <td>Beatrice Prior must confront her inner demons ...</td>\n",
       "      <td>119</td>\n",
       "      <td>Adventure|Science Fiction|Thriller</td>\n",
       "      <td>Summit Entertainment|Mandeville Films|Red Wago...</td>\n",
       "      <td>2015-03-18</td>\n",
       "      <td>2480</td>\n",
       "      <td>6.3</td>\n",
       "      <td>2015-01-01</td>\n",
       "      <td>1.012000e+08</td>\n",
       "      <td>2.716190e+08</td>\n",
       "    </tr>\n",
       "    <tr>\n",
       "      <th>3</th>\n",
       "      <td>140607</td>\n",
       "      <td>tt2488496</td>\n",
       "      <td>11.173104</td>\n",
       "      <td>200000000</td>\n",
       "      <td>2068178225</td>\n",
       "      <td>Star Wars: The Force Awakens</td>\n",
       "      <td>Harrison Ford|Mark Hamill|Carrie Fisher|Adam D...</td>\n",
       "      <td>http://www.starwars.com/films/star-wars-episod...</td>\n",
       "      <td>J.J. Abrams</td>\n",
       "      <td>Every generation has a story.</td>\n",
       "      <td>...</td>\n",
       "      <td>Thirty years after defeating the Galactic Empi...</td>\n",
       "      <td>136</td>\n",
       "      <td>Action|Adventure|Science Fiction|Fantasy</td>\n",
       "      <td>Lucasfilm|Truenorth Productions|Bad Robot</td>\n",
       "      <td>2015-12-15</td>\n",
       "      <td>5292</td>\n",
       "      <td>7.5</td>\n",
       "      <td>2015-01-01</td>\n",
       "      <td>1.839999e+08</td>\n",
       "      <td>1.902723e+09</td>\n",
       "    </tr>\n",
       "    <tr>\n",
       "      <th>4</th>\n",
       "      <td>168259</td>\n",
       "      <td>tt2820852</td>\n",
       "      <td>9.335014</td>\n",
       "      <td>190000000</td>\n",
       "      <td>1506249360</td>\n",
       "      <td>Furious 7</td>\n",
       "      <td>Vin Diesel|Paul Walker|Jason Statham|Michelle ...</td>\n",
       "      <td>http://www.furious7.com/</td>\n",
       "      <td>James Wan</td>\n",
       "      <td>Vengeance Hits Home</td>\n",
       "      <td>...</td>\n",
       "      <td>Deckard Shaw seeks revenge against Dominic Tor...</td>\n",
       "      <td>137</td>\n",
       "      <td>Action|Crime|Thriller</td>\n",
       "      <td>Universal Pictures|Original Film|Media Rights ...</td>\n",
       "      <td>2015-04-01</td>\n",
       "      <td>2947</td>\n",
       "      <td>7.3</td>\n",
       "      <td>2015-01-01</td>\n",
       "      <td>1.747999e+08</td>\n",
       "      <td>1.385749e+09</td>\n",
       "    </tr>\n",
       "  </tbody>\n",
       "</table>\n",
       "<p>5 rows × 21 columns</p>\n",
       "</div>"
      ],
      "text/plain": [
       "       id    imdb_id  popularity     budget     revenue  \\\n",
       "0  135397  tt0369610   32.985763  150000000  1513528810   \n",
       "1   76341  tt1392190   28.419936  150000000   378436354   \n",
       "2  262500  tt2908446   13.112507  110000000   295238201   \n",
       "3  140607  tt2488496   11.173104  200000000  2068178225   \n",
       "4  168259  tt2820852    9.335014  190000000  1506249360   \n",
       "\n",
       "                 original_title  \\\n",
       "0                Jurassic World   \n",
       "1            Mad Max: Fury Road   \n",
       "2                     Insurgent   \n",
       "3  Star Wars: The Force Awakens   \n",
       "4                     Furious 7   \n",
       "\n",
       "                                                cast  \\\n",
       "0  Chris Pratt|Bryce Dallas Howard|Irrfan Khan|Vi...   \n",
       "1  Tom Hardy|Charlize Theron|Hugh Keays-Byrne|Nic...   \n",
       "2  Shailene Woodley|Theo James|Kate Winslet|Ansel...   \n",
       "3  Harrison Ford|Mark Hamill|Carrie Fisher|Adam D...   \n",
       "4  Vin Diesel|Paul Walker|Jason Statham|Michelle ...   \n",
       "\n",
       "                                            homepage          director  \\\n",
       "0                      http://www.jurassicworld.com/   Colin Trevorrow   \n",
       "1                        http://www.madmaxmovie.com/     George Miller   \n",
       "2     http://www.thedivergentseries.movie/#insurgent  Robert Schwentke   \n",
       "3  http://www.starwars.com/films/star-wars-episod...       J.J. Abrams   \n",
       "4                           http://www.furious7.com/         James Wan   \n",
       "\n",
       "                         tagline  ...  \\\n",
       "0              The park is open.  ...   \n",
       "1             What a Lovely Day.  ...   \n",
       "2     One Choice Can Destroy You  ...   \n",
       "3  Every generation has a story.  ...   \n",
       "4            Vengeance Hits Home  ...   \n",
       "\n",
       "                                            overview runtime  \\\n",
       "0  Twenty-two years after the events of Jurassic ...     124   \n",
       "1  An apocalyptic story set in the furthest reach...     120   \n",
       "2  Beatrice Prior must confront her inner demons ...     119   \n",
       "3  Thirty years after defeating the Galactic Empi...     136   \n",
       "4  Deckard Shaw seeks revenge against Dominic Tor...     137   \n",
       "\n",
       "                                      genres  \\\n",
       "0  Action|Adventure|Science Fiction|Thriller   \n",
       "1  Action|Adventure|Science Fiction|Thriller   \n",
       "2         Adventure|Science Fiction|Thriller   \n",
       "3   Action|Adventure|Science Fiction|Fantasy   \n",
       "4                      Action|Crime|Thriller   \n",
       "\n",
       "                                production_companies release_date vote_count  \\\n",
       "0  Universal Studios|Amblin Entertainment|Legenda...   2015-06-09       5562   \n",
       "1  Village Roadshow Pictures|Kennedy Miller Produ...   2015-05-13       6185   \n",
       "2  Summit Entertainment|Mandeville Films|Red Wago...   2015-03-18       2480   \n",
       "3          Lucasfilm|Truenorth Productions|Bad Robot   2015-12-15       5292   \n",
       "4  Universal Pictures|Original Film|Media Rights ...   2015-04-01       2947   \n",
       "\n",
       "   vote_average  release_year    budget_adj   revenue_adj  \n",
       "0           6.5    2015-01-01  1.379999e+08  1.392446e+09  \n",
       "1           7.1    2015-01-01  1.379999e+08  3.481613e+08  \n",
       "2           6.3    2015-01-01  1.012000e+08  2.716190e+08  \n",
       "3           7.5    2015-01-01  1.839999e+08  1.902723e+09  \n",
       "4           7.3    2015-01-01  1.747999e+08  1.385749e+09  \n",
       "\n",
       "[5 rows x 21 columns]"
      ]
     },
     "execution_count": 2,
     "metadata": {},
     "output_type": "execute_result"
    }
   ],
   "source": [
    "movies = pd.read_csv('tmdb-movies.csv', parse_dates=['release_date','release_year'])\n",
    "movies.head()"
   ]
  },
  {
   "cell_type": "markdown",
   "metadata": {},
   "source": [
    "Using the info method we can get an initial idea of how our dataframe look like and if we already have to make any amend to the existing fields, we'll proceed with all the necessary changes in the following section"
   ]
  },
  {
   "cell_type": "code",
   "execution_count": 3,
   "metadata": {
    "scrolled": false
   },
   "outputs": [
    {
     "name": "stdout",
     "output_type": "stream",
     "text": [
      "<class 'pandas.core.frame.DataFrame'>\n",
      "RangeIndex: 10866 entries, 0 to 10865\n",
      "Data columns (total 21 columns):\n",
      " #   Column                Non-Null Count  Dtype         \n",
      "---  ------                --------------  -----         \n",
      " 0   id                    10866 non-null  int64         \n",
      " 1   imdb_id               10856 non-null  object        \n",
      " 2   popularity            10866 non-null  float64       \n",
      " 3   budget                10866 non-null  int64         \n",
      " 4   revenue               10866 non-null  int64         \n",
      " 5   original_title        10866 non-null  object        \n",
      " 6   cast                  10790 non-null  object        \n",
      " 7   homepage              2936 non-null   object        \n",
      " 8   director              10822 non-null  object        \n",
      " 9   tagline               8042 non-null   object        \n",
      " 10  keywords              9373 non-null   object        \n",
      " 11  overview              10862 non-null  object        \n",
      " 12  runtime               10866 non-null  int64         \n",
      " 13  genres                10843 non-null  object        \n",
      " 14  production_companies  9836 non-null   object        \n",
      " 15  release_date          10866 non-null  datetime64[ns]\n",
      " 16  vote_count            10866 non-null  int64         \n",
      " 17  vote_average          10866 non-null  float64       \n",
      " 18  release_year          10866 non-null  datetime64[ns]\n",
      " 19  budget_adj            10866 non-null  float64       \n",
      " 20  revenue_adj           10866 non-null  float64       \n",
      "dtypes: datetime64[ns](2), float64(4), int64(5), object(10)\n",
      "memory usage: 1.7+ MB\n"
     ]
    }
   ],
   "source": [
    "movies.info()"
   ]
  },
  {
   "cell_type": "markdown",
   "metadata": {},
   "source": [
    "<a id='wrangling'></a>\n",
    "## Data wrangling\n",
    "Doing the necessary checks to ensure that all the data used is solid and there are no errors that could alter our analysis. First we check if there are duplicate values and proceed to drop them."
   ]
  },
  {
   "cell_type": "code",
   "execution_count": 4,
   "metadata": {},
   "outputs": [
    {
     "data": {
      "text/plain": [
       "1"
      ]
     },
     "execution_count": 4,
     "metadata": {},
     "output_type": "execute_result"
    }
   ],
   "source": [
    "movies.duplicated().sum()"
   ]
  },
  {
   "cell_type": "code",
   "execution_count": 5,
   "metadata": {},
   "outputs": [],
   "source": [
    "movies.drop_duplicates(inplace=True)"
   ]
  },
  {
   "cell_type": "markdown",
   "metadata": {},
   "source": [
    "After droping the duplicate value we found we check again if there no more duplicates"
   ]
  },
  {
   "cell_type": "code",
   "execution_count": 6,
   "metadata": {},
   "outputs": [
    {
     "data": {
      "text/plain": [
       "0"
      ]
     },
     "execution_count": 6,
     "metadata": {},
     "output_type": "execute_result"
    }
   ],
   "source": [
    "movies.duplicated().sum()"
   ]
  },
  {
   "cell_type": "markdown",
   "metadata": {},
   "source": [
    "At this point using the describe method to find out if there are incorrect values, such as 0, in our numeric field that therefore could affect future analysis"
   ]
  },
  {
   "cell_type": "code",
   "execution_count": 7,
   "metadata": {},
   "outputs": [
    {
     "data": {
      "text/html": [
       "<div>\n",
       "<style scoped>\n",
       "    .dataframe tbody tr th:only-of-type {\n",
       "        vertical-align: middle;\n",
       "    }\n",
       "\n",
       "    .dataframe tbody tr th {\n",
       "        vertical-align: top;\n",
       "    }\n",
       "\n",
       "    .dataframe thead th {\n",
       "        text-align: right;\n",
       "    }\n",
       "</style>\n",
       "<table border=\"1\" class=\"dataframe\">\n",
       "  <thead>\n",
       "    <tr style=\"text-align: right;\">\n",
       "      <th></th>\n",
       "      <th>id</th>\n",
       "      <th>popularity</th>\n",
       "      <th>budget</th>\n",
       "      <th>revenue</th>\n",
       "      <th>runtime</th>\n",
       "      <th>vote_count</th>\n",
       "      <th>vote_average</th>\n",
       "      <th>budget_adj</th>\n",
       "      <th>revenue_adj</th>\n",
       "    </tr>\n",
       "  </thead>\n",
       "  <tbody>\n",
       "    <tr>\n",
       "      <th>count</th>\n",
       "      <td>10865.000000</td>\n",
       "      <td>10865.000000</td>\n",
       "      <td>1.086500e+04</td>\n",
       "      <td>1.086500e+04</td>\n",
       "      <td>10865.000000</td>\n",
       "      <td>10865.000000</td>\n",
       "      <td>10865.000000</td>\n",
       "      <td>1.086500e+04</td>\n",
       "      <td>1.086500e+04</td>\n",
       "    </tr>\n",
       "    <tr>\n",
       "      <th>mean</th>\n",
       "      <td>66066.374413</td>\n",
       "      <td>0.646446</td>\n",
       "      <td>1.462429e+07</td>\n",
       "      <td>3.982690e+07</td>\n",
       "      <td>102.071790</td>\n",
       "      <td>217.399632</td>\n",
       "      <td>5.975012</td>\n",
       "      <td>1.754989e+07</td>\n",
       "      <td>5.136900e+07</td>\n",
       "    </tr>\n",
       "    <tr>\n",
       "      <th>std</th>\n",
       "      <td>92134.091971</td>\n",
       "      <td>1.000231</td>\n",
       "      <td>3.091428e+07</td>\n",
       "      <td>1.170083e+08</td>\n",
       "      <td>31.382701</td>\n",
       "      <td>575.644627</td>\n",
       "      <td>0.935138</td>\n",
       "      <td>3.430753e+07</td>\n",
       "      <td>1.446383e+08</td>\n",
       "    </tr>\n",
       "    <tr>\n",
       "      <th>min</th>\n",
       "      <td>5.000000</td>\n",
       "      <td>0.000065</td>\n",
       "      <td>0.000000e+00</td>\n",
       "      <td>0.000000e+00</td>\n",
       "      <td>0.000000</td>\n",
       "      <td>10.000000</td>\n",
       "      <td>1.500000</td>\n",
       "      <td>0.000000e+00</td>\n",
       "      <td>0.000000e+00</td>\n",
       "    </tr>\n",
       "    <tr>\n",
       "      <th>25%</th>\n",
       "      <td>10596.000000</td>\n",
       "      <td>0.207575</td>\n",
       "      <td>0.000000e+00</td>\n",
       "      <td>0.000000e+00</td>\n",
       "      <td>90.000000</td>\n",
       "      <td>17.000000</td>\n",
       "      <td>5.400000</td>\n",
       "      <td>0.000000e+00</td>\n",
       "      <td>0.000000e+00</td>\n",
       "    </tr>\n",
       "    <tr>\n",
       "      <th>50%</th>\n",
       "      <td>20662.000000</td>\n",
       "      <td>0.383831</td>\n",
       "      <td>0.000000e+00</td>\n",
       "      <td>0.000000e+00</td>\n",
       "      <td>99.000000</td>\n",
       "      <td>38.000000</td>\n",
       "      <td>6.000000</td>\n",
       "      <td>0.000000e+00</td>\n",
       "      <td>0.000000e+00</td>\n",
       "    </tr>\n",
       "    <tr>\n",
       "      <th>75%</th>\n",
       "      <td>75612.000000</td>\n",
       "      <td>0.713857</td>\n",
       "      <td>1.500000e+07</td>\n",
       "      <td>2.400000e+07</td>\n",
       "      <td>111.000000</td>\n",
       "      <td>146.000000</td>\n",
       "      <td>6.600000</td>\n",
       "      <td>2.085325e+07</td>\n",
       "      <td>3.370173e+07</td>\n",
       "    </tr>\n",
       "    <tr>\n",
       "      <th>max</th>\n",
       "      <td>417859.000000</td>\n",
       "      <td>32.985763</td>\n",
       "      <td>4.250000e+08</td>\n",
       "      <td>2.781506e+09</td>\n",
       "      <td>900.000000</td>\n",
       "      <td>9767.000000</td>\n",
       "      <td>9.200000</td>\n",
       "      <td>4.250000e+08</td>\n",
       "      <td>2.827124e+09</td>\n",
       "    </tr>\n",
       "  </tbody>\n",
       "</table>\n",
       "</div>"
      ],
      "text/plain": [
       "                  id    popularity        budget       revenue       runtime  \\\n",
       "count   10865.000000  10865.000000  1.086500e+04  1.086500e+04  10865.000000   \n",
       "mean    66066.374413      0.646446  1.462429e+07  3.982690e+07    102.071790   \n",
       "std     92134.091971      1.000231  3.091428e+07  1.170083e+08     31.382701   \n",
       "min         5.000000      0.000065  0.000000e+00  0.000000e+00      0.000000   \n",
       "25%     10596.000000      0.207575  0.000000e+00  0.000000e+00     90.000000   \n",
       "50%     20662.000000      0.383831  0.000000e+00  0.000000e+00     99.000000   \n",
       "75%     75612.000000      0.713857  1.500000e+07  2.400000e+07    111.000000   \n",
       "max    417859.000000     32.985763  4.250000e+08  2.781506e+09    900.000000   \n",
       "\n",
       "         vote_count  vote_average    budget_adj   revenue_adj  \n",
       "count  10865.000000  10865.000000  1.086500e+04  1.086500e+04  \n",
       "mean     217.399632      5.975012  1.754989e+07  5.136900e+07  \n",
       "std      575.644627      0.935138  3.430753e+07  1.446383e+08  \n",
       "min       10.000000      1.500000  0.000000e+00  0.000000e+00  \n",
       "25%       17.000000      5.400000  0.000000e+00  0.000000e+00  \n",
       "50%       38.000000      6.000000  0.000000e+00  0.000000e+00  \n",
       "75%      146.000000      6.600000  2.085325e+07  3.370173e+07  \n",
       "max     9767.000000      9.200000  4.250000e+08  2.827124e+09  "
      ]
     },
     "execution_count": 7,
     "metadata": {},
     "output_type": "execute_result"
    }
   ],
   "source": [
    "movies.describe()"
   ]
  },
  {
   "cell_type": "markdown",
   "metadata": {},
   "source": [
    "After finding out that our numeric columns have a lot of values set up to 0 I want to remove all of these so I don't get errors in future analysis.\n",
    "I will remove any movie that contains a 0 in all of budget and revenue fields, as well in runtime"
   ]
  },
  {
   "cell_type": "code",
   "execution_count": 8,
   "metadata": {},
   "outputs": [],
   "source": [
    "movies = movies.query(\"budget != 0 and revenue != 0 and budget_adj != 0 and revenue_adj != 0 and runtime != 0\")"
   ]
  },
  {
   "cell_type": "code",
   "execution_count": 9,
   "metadata": {},
   "outputs": [
    {
     "name": "stdout",
     "output_type": "stream",
     "text": [
      "<class 'pandas.core.frame.DataFrame'>\n",
      "Int64Index: 3854 entries, 0 to 10848\n",
      "Data columns (total 21 columns):\n",
      " #   Column                Non-Null Count  Dtype         \n",
      "---  ------                --------------  -----         \n",
      " 0   id                    3854 non-null   int64         \n",
      " 1   imdb_id               3854 non-null   object        \n",
      " 2   popularity            3854 non-null   float64       \n",
      " 3   budget                3854 non-null   int64         \n",
      " 4   revenue               3854 non-null   int64         \n",
      " 5   original_title        3854 non-null   object        \n",
      " 6   cast                  3850 non-null   object        \n",
      " 7   homepage              1426 non-null   object        \n",
      " 8   director              3853 non-null   object        \n",
      " 9   tagline               3574 non-null   object        \n",
      " 10  keywords              3716 non-null   object        \n",
      " 11  overview              3854 non-null   object        \n",
      " 12  runtime               3854 non-null   int64         \n",
      " 13  genres                3854 non-null   object        \n",
      " 14  production_companies  3808 non-null   object        \n",
      " 15  release_date          3854 non-null   datetime64[ns]\n",
      " 16  vote_count            3854 non-null   int64         \n",
      " 17  vote_average          3854 non-null   float64       \n",
      " 18  release_year          3854 non-null   datetime64[ns]\n",
      " 19  budget_adj            3854 non-null   float64       \n",
      " 20  revenue_adj           3854 non-null   float64       \n",
      "dtypes: datetime64[ns](2), float64(4), int64(5), object(10)\n",
      "memory usage: 662.4+ KB\n"
     ]
    }
   ],
   "source": [
    "movies.info()"
   ]
  },
  {
   "cell_type": "markdown",
   "metadata": {},
   "source": [
    "Then identify all the fields that contain null values and we replace them for default string 'No value'. Since there are quite a lot of columns with null values we iterate through them using a for loop and we pass to any of them the default 'No value' string.\n",
    "Found this workaround [here](https://datascience.stackexchange.com/questions/54960/how-to-use-the-fillna-method-in-a-for-loop)"
   ]
  },
  {
   "cell_type": "code",
   "execution_count": 10,
   "metadata": {},
   "outputs": [],
   "source": [
    "for cols in movies.columns:\n",
    "    movies[cols].fillna(\"No value\",inplace=True)"
   ]
  },
  {
   "cell_type": "markdown",
   "metadata": {},
   "source": [
    "Then proceed to check again the info of the dataframe to confirm that we have recoded all null values and that now all columns have the same amount of valid fields"
   ]
  },
  {
   "cell_type": "code",
   "execution_count": 11,
   "metadata": {},
   "outputs": [
    {
     "name": "stdout",
     "output_type": "stream",
     "text": [
      "<class 'pandas.core.frame.DataFrame'>\n",
      "Int64Index: 3854 entries, 0 to 10848\n",
      "Data columns (total 21 columns):\n",
      " #   Column                Non-Null Count  Dtype         \n",
      "---  ------                --------------  -----         \n",
      " 0   id                    3854 non-null   int64         \n",
      " 1   imdb_id               3854 non-null   object        \n",
      " 2   popularity            3854 non-null   float64       \n",
      " 3   budget                3854 non-null   int64         \n",
      " 4   revenue               3854 non-null   int64         \n",
      " 5   original_title        3854 non-null   object        \n",
      " 6   cast                  3854 non-null   object        \n",
      " 7   homepage              3854 non-null   object        \n",
      " 8   director              3854 non-null   object        \n",
      " 9   tagline               3854 non-null   object        \n",
      " 10  keywords              3854 non-null   object        \n",
      " 11  overview              3854 non-null   object        \n",
      " 12  runtime               3854 non-null   int64         \n",
      " 13  genres                3854 non-null   object        \n",
      " 14  production_companies  3854 non-null   object        \n",
      " 15  release_date          3854 non-null   datetime64[ns]\n",
      " 16  vote_count            3854 non-null   int64         \n",
      " 17  vote_average          3854 non-null   float64       \n",
      " 18  release_year          3854 non-null   datetime64[ns]\n",
      " 19  budget_adj            3854 non-null   float64       \n",
      " 20  revenue_adj           3854 non-null   float64       \n",
      "dtypes: datetime64[ns](2), float64(4), int64(5), object(10)\n",
      "memory usage: 662.4+ KB\n"
     ]
    }
   ],
   "source": [
    "movies.info()"
   ]
  },
  {
   "cell_type": "markdown",
   "metadata": {},
   "source": [
    "For some of our research questions we are particularly interested in working with the genres column, we currently have the genres separated by pipes (|), it would be ideal to have only one single genre per column, but that means  we have to create as many new genre columns to include all possible combinations. We use then the split method to create up to 5 new columns, so we now have a one single genre per column.\n",
    "\n",
    "I have created a new dataframe called `all_genres` that includes all new genre columns, we then need to insert the id column from the original movies dataframe into this new one, so we can perform a merge between the two dataframes (we need the common id primary key in both dataframes so that the merge can be done)"
   ]
  },
  {
   "cell_type": "code",
   "execution_count": 12,
   "metadata": {},
   "outputs": [],
   "source": [
    "all_genres = movies['genres'].str.split('|', 4, expand=True).rename(columns={0:'genre1', 1:'genre2', 2:'genre3', 3:'genre4', 4:'genre5'})\n",
    "\n",
    "all_genres.insert(0,column='id',value=movies['id'])"
   ]
  },
  {
   "cell_type": "markdown",
   "metadata": {},
   "source": [
    "We check that the id column has been added succesfully into our new dataframe"
   ]
  },
  {
   "cell_type": "code",
   "execution_count": 13,
   "metadata": {},
   "outputs": [
    {
     "data": {
      "text/html": [
       "<div>\n",
       "<style scoped>\n",
       "    .dataframe tbody tr th:only-of-type {\n",
       "        vertical-align: middle;\n",
       "    }\n",
       "\n",
       "    .dataframe tbody tr th {\n",
       "        vertical-align: top;\n",
       "    }\n",
       "\n",
       "    .dataframe thead th {\n",
       "        text-align: right;\n",
       "    }\n",
       "</style>\n",
       "<table border=\"1\" class=\"dataframe\">\n",
       "  <thead>\n",
       "    <tr style=\"text-align: right;\">\n",
       "      <th></th>\n",
       "      <th>id</th>\n",
       "      <th>genre1</th>\n",
       "      <th>genre2</th>\n",
       "      <th>genre3</th>\n",
       "      <th>genre4</th>\n",
       "      <th>genre5</th>\n",
       "    </tr>\n",
       "  </thead>\n",
       "  <tbody>\n",
       "    <tr>\n",
       "      <th>0</th>\n",
       "      <td>135397</td>\n",
       "      <td>Action</td>\n",
       "      <td>Adventure</td>\n",
       "      <td>Science Fiction</td>\n",
       "      <td>Thriller</td>\n",
       "      <td>None</td>\n",
       "    </tr>\n",
       "    <tr>\n",
       "      <th>1</th>\n",
       "      <td>76341</td>\n",
       "      <td>Action</td>\n",
       "      <td>Adventure</td>\n",
       "      <td>Science Fiction</td>\n",
       "      <td>Thriller</td>\n",
       "      <td>None</td>\n",
       "    </tr>\n",
       "    <tr>\n",
       "      <th>2</th>\n",
       "      <td>262500</td>\n",
       "      <td>Adventure</td>\n",
       "      <td>Science Fiction</td>\n",
       "      <td>Thriller</td>\n",
       "      <td>None</td>\n",
       "      <td>None</td>\n",
       "    </tr>\n",
       "    <tr>\n",
       "      <th>3</th>\n",
       "      <td>140607</td>\n",
       "      <td>Action</td>\n",
       "      <td>Adventure</td>\n",
       "      <td>Science Fiction</td>\n",
       "      <td>Fantasy</td>\n",
       "      <td>None</td>\n",
       "    </tr>\n",
       "    <tr>\n",
       "      <th>4</th>\n",
       "      <td>168259</td>\n",
       "      <td>Action</td>\n",
       "      <td>Crime</td>\n",
       "      <td>Thriller</td>\n",
       "      <td>None</td>\n",
       "      <td>None</td>\n",
       "    </tr>\n",
       "  </tbody>\n",
       "</table>\n",
       "</div>"
      ],
      "text/plain": [
       "       id     genre1           genre2           genre3    genre4 genre5\n",
       "0  135397     Action        Adventure  Science Fiction  Thriller   None\n",
       "1   76341     Action        Adventure  Science Fiction  Thriller   None\n",
       "2  262500  Adventure  Science Fiction         Thriller      None   None\n",
       "3  140607     Action        Adventure  Science Fiction   Fantasy   None\n",
       "4  168259     Action            Crime         Thriller      None   None"
      ]
     },
     "execution_count": 13,
     "metadata": {},
     "output_type": "execute_result"
    }
   ],
   "source": [
    "all_genres.head()"
   ]
  },
  {
   "cell_type": "markdown",
   "metadata": {},
   "source": [
    "Then we perform the merge operations to add the columns from the `all_genres` dataframe into the original `movies` dataframe"
   ]
  },
  {
   "cell_type": "code",
   "execution_count": 14,
   "metadata": {},
   "outputs": [],
   "source": [
    "movies = movies.merge(all_genres, how='inner', on='id')"
   ]
  },
  {
   "cell_type": "markdown",
   "metadata": {},
   "source": [
    "We then drop the `genres` column (the original that contained all genres separated by pipes) as it is not useful anymore"
   ]
  },
  {
   "cell_type": "code",
   "execution_count": 15,
   "metadata": {},
   "outputs": [],
   "source": [
    "movies.drop('genres', axis=1, inplace=True)"
   ]
  },
  {
   "cell_type": "markdown",
   "metadata": {},
   "source": [
    "Let's check that the separated genre columns are now placed in the original dataframe and that the old `genres` column has been drop"
   ]
  },
  {
   "cell_type": "code",
   "execution_count": 16,
   "metadata": {},
   "outputs": [
    {
     "name": "stdout",
     "output_type": "stream",
     "text": [
      "<class 'pandas.core.frame.DataFrame'>\n",
      "Int64Index: 3854 entries, 0 to 3853\n",
      "Data columns (total 25 columns):\n",
      " #   Column                Non-Null Count  Dtype         \n",
      "---  ------                --------------  -----         \n",
      " 0   id                    3854 non-null   int64         \n",
      " 1   imdb_id               3854 non-null   object        \n",
      " 2   popularity            3854 non-null   float64       \n",
      " 3   budget                3854 non-null   int64         \n",
      " 4   revenue               3854 non-null   int64         \n",
      " 5   original_title        3854 non-null   object        \n",
      " 6   cast                  3854 non-null   object        \n",
      " 7   homepage              3854 non-null   object        \n",
      " 8   director              3854 non-null   object        \n",
      " 9   tagline               3854 non-null   object        \n",
      " 10  keywords              3854 non-null   object        \n",
      " 11  overview              3854 non-null   object        \n",
      " 12  runtime               3854 non-null   int64         \n",
      " 13  production_companies  3854 non-null   object        \n",
      " 14  release_date          3854 non-null   datetime64[ns]\n",
      " 15  vote_count            3854 non-null   int64         \n",
      " 16  vote_average          3854 non-null   float64       \n",
      " 17  release_year          3854 non-null   datetime64[ns]\n",
      " 18  budget_adj            3854 non-null   float64       \n",
      " 19  revenue_adj           3854 non-null   float64       \n",
      " 20  genre1                3854 non-null   object        \n",
      " 21  genre2                3205 non-null   object        \n",
      " 22  genre3                2112 non-null   object        \n",
      " 23  genre4                873 non-null    object        \n",
      " 24  genre5                259 non-null    object        \n",
      "dtypes: datetime64[ns](2), float64(4), int64(5), object(14)\n",
      "memory usage: 782.8+ KB\n"
     ]
    }
   ],
   "source": [
    "movies.info()"
   ]
  },
  {
   "cell_type": "markdown",
   "metadata": {},
   "source": [
    "To properly work with the column release year (to be able to answer some of the research questions) I have to convert the `release_year` column from date format 'dd-mm-yyyy' to only year format 'yyyy', this will look more 'clean' when plotting, since month and day are not giving us any valuable information fot this field in particular (all them are set by default to 01-01) "
   ]
  },
  {
   "cell_type": "code",
   "execution_count": 17,
   "metadata": {},
   "outputs": [],
   "source": [
    "movies['release_year'] = movies['release_year'].dt.year"
   ]
  },
  {
   "cell_type": "code",
   "execution_count": 18,
   "metadata": {},
   "outputs": [
    {
     "name": "stdout",
     "output_type": "stream",
     "text": [
      "<class 'pandas.core.frame.DataFrame'>\n",
      "Int64Index: 3854 entries, 0 to 3853\n",
      "Data columns (total 25 columns):\n",
      " #   Column                Non-Null Count  Dtype         \n",
      "---  ------                --------------  -----         \n",
      " 0   id                    3854 non-null   int64         \n",
      " 1   imdb_id               3854 non-null   object        \n",
      " 2   popularity            3854 non-null   float64       \n",
      " 3   budget                3854 non-null   int64         \n",
      " 4   revenue               3854 non-null   int64         \n",
      " 5   original_title        3854 non-null   object        \n",
      " 6   cast                  3854 non-null   object        \n",
      " 7   homepage              3854 non-null   object        \n",
      " 8   director              3854 non-null   object        \n",
      " 9   tagline               3854 non-null   object        \n",
      " 10  keywords              3854 non-null   object        \n",
      " 11  overview              3854 non-null   object        \n",
      " 12  runtime               3854 non-null   int64         \n",
      " 13  production_companies  3854 non-null   object        \n",
      " 14  release_date          3854 non-null   datetime64[ns]\n",
      " 15  vote_count            3854 non-null   int64         \n",
      " 16  vote_average          3854 non-null   float64       \n",
      " 17  release_year          3854 non-null   int64         \n",
      " 18  budget_adj            3854 non-null   float64       \n",
      " 19  revenue_adj           3854 non-null   float64       \n",
      " 20  genre1                3854 non-null   object        \n",
      " 21  genre2                3205 non-null   object        \n",
      " 22  genre3                2112 non-null   object        \n",
      " 23  genre4                873 non-null    object        \n",
      " 24  genre5                259 non-null    object        \n",
      "dtypes: datetime64[ns](1), float64(4), int64(6), object(14)\n",
      "memory usage: 782.8+ KB\n"
     ]
    }
   ],
   "source": [
    "movies.info()"
   ]
  },
  {
   "cell_type": "code",
   "execution_count": 19,
   "metadata": {
    "scrolled": false
   },
   "outputs": [
    {
     "data": {
      "text/html": [
       "<div>\n",
       "<style scoped>\n",
       "    .dataframe tbody tr th:only-of-type {\n",
       "        vertical-align: middle;\n",
       "    }\n",
       "\n",
       "    .dataframe tbody tr th {\n",
       "        vertical-align: top;\n",
       "    }\n",
       "\n",
       "    .dataframe thead th {\n",
       "        text-align: right;\n",
       "    }\n",
       "</style>\n",
       "<table border=\"1\" class=\"dataframe\">\n",
       "  <thead>\n",
       "    <tr style=\"text-align: right;\">\n",
       "      <th></th>\n",
       "      <th>id</th>\n",
       "      <th>popularity</th>\n",
       "      <th>budget</th>\n",
       "      <th>revenue</th>\n",
       "      <th>runtime</th>\n",
       "      <th>vote_count</th>\n",
       "      <th>vote_average</th>\n",
       "      <th>release_year</th>\n",
       "      <th>budget_adj</th>\n",
       "      <th>revenue_adj</th>\n",
       "    </tr>\n",
       "  </thead>\n",
       "  <tbody>\n",
       "    <tr>\n",
       "      <th>count</th>\n",
       "      <td>3854.000000</td>\n",
       "      <td>3854.000000</td>\n",
       "      <td>3.854000e+03</td>\n",
       "      <td>3.854000e+03</td>\n",
       "      <td>3854.000000</td>\n",
       "      <td>3854.000000</td>\n",
       "      <td>3854.000000</td>\n",
       "      <td>3854.000000</td>\n",
       "      <td>3.854000e+03</td>\n",
       "      <td>3.854000e+03</td>\n",
       "    </tr>\n",
       "    <tr>\n",
       "      <th>mean</th>\n",
       "      <td>39888.185262</td>\n",
       "      <td>1.191554</td>\n",
       "      <td>3.720370e+07</td>\n",
       "      <td>1.076866e+08</td>\n",
       "      <td>109.220291</td>\n",
       "      <td>527.720291</td>\n",
       "      <td>6.168163</td>\n",
       "      <td>2001.261028</td>\n",
       "      <td>4.423999e+07</td>\n",
       "      <td>1.370647e+08</td>\n",
       "    </tr>\n",
       "    <tr>\n",
       "      <th>std</th>\n",
       "      <td>67222.527399</td>\n",
       "      <td>1.475162</td>\n",
       "      <td>4.220822e+07</td>\n",
       "      <td>1.765393e+08</td>\n",
       "      <td>19.922820</td>\n",
       "      <td>879.956821</td>\n",
       "      <td>0.794920</td>\n",
       "      <td>11.282575</td>\n",
       "      <td>4.480925e+07</td>\n",
       "      <td>2.161114e+08</td>\n",
       "    </tr>\n",
       "    <tr>\n",
       "      <th>min</th>\n",
       "      <td>5.000000</td>\n",
       "      <td>0.001117</td>\n",
       "      <td>1.000000e+00</td>\n",
       "      <td>2.000000e+00</td>\n",
       "      <td>15.000000</td>\n",
       "      <td>10.000000</td>\n",
       "      <td>2.200000</td>\n",
       "      <td>1960.000000</td>\n",
       "      <td>9.693980e-01</td>\n",
       "      <td>2.370705e+00</td>\n",
       "    </tr>\n",
       "    <tr>\n",
       "      <th>25%</th>\n",
       "      <td>6073.500000</td>\n",
       "      <td>0.462368</td>\n",
       "      <td>1.000000e+07</td>\n",
       "      <td>1.360003e+07</td>\n",
       "      <td>95.000000</td>\n",
       "      <td>71.000000</td>\n",
       "      <td>5.700000</td>\n",
       "      <td>1995.000000</td>\n",
       "      <td>1.309053e+07</td>\n",
       "      <td>1.835735e+07</td>\n",
       "    </tr>\n",
       "    <tr>\n",
       "      <th>50%</th>\n",
       "      <td>11321.500000</td>\n",
       "      <td>0.797511</td>\n",
       "      <td>2.400000e+07</td>\n",
       "      <td>4.480000e+07</td>\n",
       "      <td>106.000000</td>\n",
       "      <td>204.000000</td>\n",
       "      <td>6.200000</td>\n",
       "      <td>2004.000000</td>\n",
       "      <td>3.001611e+07</td>\n",
       "      <td>6.173068e+07</td>\n",
       "    </tr>\n",
       "    <tr>\n",
       "      <th>75%</th>\n",
       "      <td>38573.250000</td>\n",
       "      <td>1.368324</td>\n",
       "      <td>5.000000e+07</td>\n",
       "      <td>1.242125e+08</td>\n",
       "      <td>119.000000</td>\n",
       "      <td>580.000000</td>\n",
       "      <td>6.700000</td>\n",
       "      <td>2010.000000</td>\n",
       "      <td>6.061307e+07</td>\n",
       "      <td>1.632577e+08</td>\n",
       "    </tr>\n",
       "    <tr>\n",
       "      <th>max</th>\n",
       "      <td>417859.000000</td>\n",
       "      <td>32.985763</td>\n",
       "      <td>4.250000e+08</td>\n",
       "      <td>2.781506e+09</td>\n",
       "      <td>338.000000</td>\n",
       "      <td>9767.000000</td>\n",
       "      <td>8.400000</td>\n",
       "      <td>2015.000000</td>\n",
       "      <td>4.250000e+08</td>\n",
       "      <td>2.827124e+09</td>\n",
       "    </tr>\n",
       "  </tbody>\n",
       "</table>\n",
       "</div>"
      ],
      "text/plain": [
       "                  id   popularity        budget       revenue      runtime  \\\n",
       "count    3854.000000  3854.000000  3.854000e+03  3.854000e+03  3854.000000   \n",
       "mean    39888.185262     1.191554  3.720370e+07  1.076866e+08   109.220291   \n",
       "std     67222.527399     1.475162  4.220822e+07  1.765393e+08    19.922820   \n",
       "min         5.000000     0.001117  1.000000e+00  2.000000e+00    15.000000   \n",
       "25%      6073.500000     0.462368  1.000000e+07  1.360003e+07    95.000000   \n",
       "50%     11321.500000     0.797511  2.400000e+07  4.480000e+07   106.000000   \n",
       "75%     38573.250000     1.368324  5.000000e+07  1.242125e+08   119.000000   \n",
       "max    417859.000000    32.985763  4.250000e+08  2.781506e+09   338.000000   \n",
       "\n",
       "        vote_count  vote_average  release_year    budget_adj   revenue_adj  \n",
       "count  3854.000000   3854.000000   3854.000000  3.854000e+03  3.854000e+03  \n",
       "mean    527.720291      6.168163   2001.261028  4.423999e+07  1.370647e+08  \n",
       "std     879.956821      0.794920     11.282575  4.480925e+07  2.161114e+08  \n",
       "min      10.000000      2.200000   1960.000000  9.693980e-01  2.370705e+00  \n",
       "25%      71.000000      5.700000   1995.000000  1.309053e+07  1.835735e+07  \n",
       "50%     204.000000      6.200000   2004.000000  3.001611e+07  6.173068e+07  \n",
       "75%     580.000000      6.700000   2010.000000  6.061307e+07  1.632577e+08  \n",
       "max    9767.000000      8.400000   2015.000000  4.250000e+08  2.827124e+09  "
      ]
     },
     "execution_count": 19,
     "metadata": {},
     "output_type": "execute_result"
    }
   ],
   "source": [
    "movies.describe()"
   ]
  },
  {
   "cell_type": "markdown",
   "metadata": {},
   "source": [
    "<a id='eda1'></a>\n",
    "## Exploratory data analysis\n",
    "\n",
    "### Research Question 1\n",
    "1. Which genres are most popular from year to year?\n",
    "\n",
    "**1.1 Is there a general trend from both popularity and vote average? Let's first display the data for all movies regardless of the genre, to check if there has been a clear trend for all the movies**\n"
   ]
  },
  {
   "cell_type": "code",
   "execution_count": 20,
   "metadata": {},
   "outputs": [],
   "source": [
    "q1_1 = movies[['original_title','release_year','vote_average','popularity']]"
   ]
  },
  {
   "cell_type": "markdown",
   "metadata": {},
   "source": [
    "After selecting the columns that are going to be used to answer this question I set the index to the `original_title` field"
   ]
  },
  {
   "cell_type": "code",
   "execution_count": 21,
   "metadata": {},
   "outputs": [],
   "source": [
    "q1_1.set_index('original_title', inplace=True)"
   ]
  },
  {
   "cell_type": "markdown",
   "metadata": {},
   "source": [
    "Then group by year and use the mean metric to get the mean of both `vote_average` and `popularity` for every year"
   ]
  },
  {
   "cell_type": "code",
   "execution_count": 22,
   "metadata": {},
   "outputs": [],
   "source": [
    "q1_1 = q1_1.groupby('release_year').mean()"
   ]
  },
  {
   "cell_type": "markdown",
   "metadata": {},
   "source": [
    "I proceed to plot both charts side to side so they are very visible at a simple glance. For that purpose I will use the subplot functionailty in Matlplotlib"
   ]
  },
  {
   "cell_type": "code",
   "execution_count": 23,
   "metadata": {},
   "outputs": [
    {
     "data": {
      "text/plain": [
       "''"
      ]
     },
     "execution_count": 23,
     "metadata": {},
     "output_type": "execute_result"
    },
    {
     "data": {
      "image/png": "[encoded data removed]",
      "text/plain": [
       "<Figure size 720x432 with 2 Axes>"
      ]
     },
     "metadata": {
      "needs_background": "light"
     },
     "output_type": "display_data"
    }
   ],
   "source": [
    "plt.figure(figsize=(10,6))\n",
    "\n",
    "plt.subplot(1,2,1)\n",
    "q1_1['vote_average'].plot()\n",
    "plt.xlabel('Release year', fontsize=14)\n",
    "plt.ylabel('Vote average', fontsize=14)\n",
    ";\n",
    "plt.subplot(1,2,2)\n",
    "q1_1['popularity'].plot()\n",
    "plt.xlabel('Release year', fontsize=14)\n",
    "plt.ylabel('Popularity index', fontsize=14)\n",
    ";"
   ]
  },
  {
   "cell_type": "markdown",
   "metadata": {},
   "source": [
    "A different trend for both vote average and popularity is observed. it looks like the `vote average` of movies has been insteadily decreasing through the years, though popularity has remain more or less steady until 2010 when it has experimenting a notable increase. Movies are becoming on average more popular, even thougth their vote average is decreasing."
   ]
  },
  {
   "cell_type": "markdown",
   "metadata": {},
   "source": [
    "**1.2 Which are the most popular genres on average for the whole distribution? And what about these that have higher vote averages? Among those which have stand out in any particular moment of time, if any**\n",
    "\n",
    "In order to perform the analysis of the most popular/higher-voted genres we have to do some operations again with the genres columns.\n",
    "\n",
    "First, I create four staging dataframes, each one containing information about one of our genre columns (In the data wrangling phase I split our initial genres field in four fields) and the popularity and vote average for each of them. We'll use a groupby method for this purpose."
   ]
  },
  {
   "cell_type": "code",
   "execution_count": 24,
   "metadata": {},
   "outputs": [],
   "source": [
    "q1_1_genre1 = pd.DataFrame(movies.groupby(['release_year','genre1']).mean()[['popularity','vote_average']])\n",
    "q1_1_genre2 = pd.DataFrame(movies.groupby(['release_year','genre2']).mean()[['popularity','vote_average']])\n",
    "q1_1_genre3 = pd.DataFrame(movies.groupby(['release_year','genre3']).mean()[['popularity','vote_average']])\n",
    "q1_1_genre4 = pd.DataFrame(movies.groupby(['release_year','genre4']).mean()[['popularity','vote_average']])"
   ]
  },
  {
   "cell_type": "markdown",
   "metadata": {},
   "source": [
    "Using the concat method `same as a Union in SQL` I chain all of these 4 staging dataframes (all 4 have the same structure so there is no error doing that)"
   ]
  },
  {
   "cell_type": "code",
   "execution_count": 25,
   "metadata": {},
   "outputs": [],
   "source": [
    "all_genres = pd.concat(objs=[q1_1_genre1,q1_1_genre2,q1_1_genre3,q1_1_genre4], keys=['genre1','genre2','genre3','genre4'])"
   ]
  },
  {
   "cell_type": "markdown",
   "metadata": {},
   "source": [
    "After chaining the dataframe I reset the indexes and rename the columns so we can work with the definitive names of the columns from now on"
   ]
  },
  {
   "cell_type": "code",
   "execution_count": 26,
   "metadata": {},
   "outputs": [],
   "source": [
    "all_genres.reset_index(inplace=True)\n",
    "all_genres.columns = ['Genre_n','Year','Genre','Popularity','Vote_Average']"
   ]
  },
  {
   "cell_type": "code",
   "execution_count": 27,
   "metadata": {},
   "outputs": [
    {
     "data": {
      "text/html": [
       "<div>\n",
       "<style scoped>\n",
       "    .dataframe tbody tr th:only-of-type {\n",
       "        vertical-align: middle;\n",
       "    }\n",
       "\n",
       "    .dataframe tbody tr th {\n",
       "        vertical-align: top;\n",
       "    }\n",
       "\n",
       "    .dataframe thead th {\n",
       "        text-align: right;\n",
       "    }\n",
       "</style>\n",
       "<table border=\"1\" class=\"dataframe\">\n",
       "  <thead>\n",
       "    <tr style=\"text-align: right;\">\n",
       "      <th></th>\n",
       "      <th>Genre_n</th>\n",
       "      <th>Year</th>\n",
       "      <th>Genre</th>\n",
       "      <th>Popularity</th>\n",
       "      <th>Vote_Average</th>\n",
       "    </tr>\n",
       "  </thead>\n",
       "  <tbody>\n",
       "    <tr>\n",
       "      <th>0</th>\n",
       "      <td>genre1</td>\n",
       "      <td>1960</td>\n",
       "      <td>Action</td>\n",
       "      <td>1.504538</td>\n",
       "      <td>6.95</td>\n",
       "    </tr>\n",
       "    <tr>\n",
       "      <th>1</th>\n",
       "      <td>genre1</td>\n",
       "      <td>1960</td>\n",
       "      <td>Comedy</td>\n",
       "      <td>0.501564</td>\n",
       "      <td>7.55</td>\n",
       "    </tr>\n",
       "    <tr>\n",
       "      <th>2</th>\n",
       "      <td>genre1</td>\n",
       "      <td>1960</td>\n",
       "      <td>Drama</td>\n",
       "      <td>2.610362</td>\n",
       "      <td>8.00</td>\n",
       "    </tr>\n",
       "    <tr>\n",
       "      <th>3</th>\n",
       "      <td>genre1</td>\n",
       "      <td>1961</td>\n",
       "      <td>Action</td>\n",
       "      <td>0.754548</td>\n",
       "      <td>7.00</td>\n",
       "    </tr>\n",
       "    <tr>\n",
       "      <th>4</th>\n",
       "      <td>genre1</td>\n",
       "      <td>1961</td>\n",
       "      <td>Adventure</td>\n",
       "      <td>2.631987</td>\n",
       "      <td>6.60</td>\n",
       "    </tr>\n",
       "  </tbody>\n",
       "</table>\n",
       "</div>"
      ],
      "text/plain": [
       "  Genre_n  Year      Genre  Popularity  Vote_Average\n",
       "0  genre1  1960     Action    1.504538          6.95\n",
       "1  genre1  1960     Comedy    0.501564          7.55\n",
       "2  genre1  1960      Drama    2.610362          8.00\n",
       "3  genre1  1961     Action    0.754548          7.00\n",
       "4  genre1  1961  Adventure    2.631987          6.60"
      ]
     },
     "execution_count": 27,
     "metadata": {},
     "output_type": "execute_result"
    }
   ],
   "source": [
    "all_genres.head()"
   ]
  },
  {
   "cell_type": "markdown",
   "metadata": {},
   "source": [
    "To find out which are the most popular genres I create a first groupby function with the only purpose to select the **TOP5 genres by overall popularity**. Since we are not still interested in the variation through the years, we will only use `Popularity` to get the overall mean."
   ]
  },
  {
   "cell_type": "code",
   "execution_count": 28,
   "metadata": {},
   "outputs": [],
   "source": [
    "all_genres_means = all_genres.groupby(['Genre']).mean()['Popularity'].sort_values(ascending=False)"
   ]
  },
  {
   "cell_type": "code",
   "execution_count": 29,
   "metadata": {
    "scrolled": false
   },
   "outputs": [
    {
     "data": {
      "text/plain": [
       "Genre\n",
       "Adventure          1.754255\n",
       "Animation          1.647187\n",
       "Fantasy            1.606312\n",
       "Science Fiction    1.541762\n",
       "Action             1.495191\n",
       "Family             1.420168\n",
       "War                1.244264\n",
       "Thriller           1.232701\n",
       "Western            1.189551\n",
       "Mystery            1.119390\n",
       "Comedy             1.090972\n",
       "Crime              1.042085\n",
       "History            0.954685\n",
       "Drama              0.951904\n",
       "Romance            0.929311\n",
       "Horror             0.879825\n",
       "Music              0.856642\n",
       "Documentary        0.294163\n",
       "TV Movie           0.273628\n",
       "Foreign            0.178311\n",
       "Name: Popularity, dtype: float64"
      ]
     },
     "execution_count": 29,
     "metadata": {},
     "output_type": "execute_result"
    }
   ],
   "source": [
    "all_genres_means"
   ]
  },
  {
   "cell_type": "markdown",
   "metadata": {},
   "source": [
    "`Adventure, Action, Animation, Fantasy and Science Fiction` are overall on average the most popular genres of our distribution, so we will proceed from now on only with these five to simplify our analysis."
   ]
  },
  {
   "cell_type": "markdown",
   "metadata": {},
   "source": [
    "To check if the more popular genres are also the ones getting higher vote averages we will do the same genre ranking we just did but for the `vote_average` field"
   ]
  },
  {
   "cell_type": "code",
   "execution_count": 30,
   "metadata": {},
   "outputs": [],
   "source": [
    "all_genres_means_pop = all_genres.groupby(['Genre']).mean()['Vote_Average'].sort_values(ascending=False)"
   ]
  },
  {
   "cell_type": "code",
   "execution_count": 31,
   "metadata": {},
   "outputs": [
    {
     "data": {
      "text/plain": [
       "Genre\n",
       "Documentary        6.737037\n",
       "War                6.580321\n",
       "History            6.574799\n",
       "Animation          6.494462\n",
       "Drama              6.490818\n",
       "Western            6.487500\n",
       "Crime              6.380783\n",
       "Music              6.333767\n",
       "Adventure          6.281410\n",
       "Mystery            6.250845\n",
       "Romance            6.242546\n",
       "Thriller           6.233498\n",
       "Family             6.222976\n",
       "Action             6.199770\n",
       "Comedy             6.174962\n",
       "Foreign            6.113636\n",
       "Fantasy            6.106220\n",
       "Science Fiction    6.093374\n",
       "Horror             5.829813\n",
       "TV Movie           5.600000\n",
       "Name: Vote_Average, dtype: float64"
      ]
     },
     "execution_count": 31,
     "metadata": {},
     "output_type": "execute_result"
    }
   ],
   "source": [
    "all_genres_means_pop"
   ]
  },
  {
   "cell_type": "markdown",
   "metadata": {},
   "source": [
    "From the most popular genres, only `animation` is located among the **TOP in vote average(4th place overall)**, `Adventure` is located around the half point of the series, and `Action, Fantasy and Science Fiction` are located in the bottom part of the series.\n",
    "The conclusion up to this point is that there is no direct correlation between `popularity` and `vote_average`"
   ]
  },
  {
   "cell_type": "markdown",
   "metadata": {},
   "source": [
    "Now that we have defined which are the TOP5 genres in terms of popularity, I create another groupby function, this is the one we will use to plot, so the `Year` field will be included. Using the `query` method to select only the data from the **TOP5 genres** we have identified before, in order to highlight that the variables are not correlated at all. I want to bring also the `documentary` genre into the plot so we can see the differences in vote_average among our TOP5 most popular genres and `Documentary`, which is the one that gets a higher `vote_average`"
   ]
  },
  {
   "cell_type": "code",
   "execution_count": 32,
   "metadata": {
    "scrolled": false
   },
   "outputs": [],
   "source": [
    "all_genres = all_genres.groupby(['Year','Genre']).mean()\n",
    "top5_genres = all_genres.query(\"Genre in ('Adventure', 'Action', 'Animation', 'Fantasy','Science Fiction','Documentary')\")"
   ]
  },
  {
   "cell_type": "markdown",
   "metadata": {},
   "source": [
    "We then use the unstack method to transpose the indexes and bring the genres into columns. Doing this will allow us to easy plot them as different categories"
   ]
  },
  {
   "cell_type": "code",
   "execution_count": 33,
   "metadata": {},
   "outputs": [
    {
     "data": {
      "text/html": [
       "<div>\n",
       "<style scoped>\n",
       "    .dataframe tbody tr th:only-of-type {\n",
       "        vertical-align: middle;\n",
       "    }\n",
       "\n",
       "    .dataframe tbody tr th {\n",
       "        vertical-align: top;\n",
       "    }\n",
       "\n",
       "    .dataframe thead th {\n",
       "        text-align: right;\n",
       "    }\n",
       "</style>\n",
       "<table border=\"1\" class=\"dataframe\">\n",
       "  <thead>\n",
       "    <tr style=\"text-align: right;\">\n",
       "      <th></th>\n",
       "      <th></th>\n",
       "      <th>Popularity</th>\n",
       "      <th>Vote_Average</th>\n",
       "    </tr>\n",
       "    <tr>\n",
       "      <th>Year</th>\n",
       "      <th>Genre</th>\n",
       "      <th></th>\n",
       "      <th></th>\n",
       "    </tr>\n",
       "  </thead>\n",
       "  <tbody>\n",
       "    <tr>\n",
       "      <th rowspan=\"2\" valign=\"top\">1960</th>\n",
       "      <th>Action</th>\n",
       "      <td>1.504538</td>\n",
       "      <td>6.950000</td>\n",
       "    </tr>\n",
       "    <tr>\n",
       "      <th>Adventure</th>\n",
       "      <td>1.872132</td>\n",
       "      <td>7.000000</td>\n",
       "    </tr>\n",
       "    <tr>\n",
       "      <th rowspan=\"3\" valign=\"top\">1961</th>\n",
       "      <th>Action</th>\n",
       "      <td>0.464139</td>\n",
       "      <td>6.550000</td>\n",
       "    </tr>\n",
       "    <tr>\n",
       "      <th>Adventure</th>\n",
       "      <td>1.693268</td>\n",
       "      <td>6.800000</td>\n",
       "    </tr>\n",
       "    <tr>\n",
       "      <th>Animation</th>\n",
       "      <td>2.631987</td>\n",
       "      <td>6.600000</td>\n",
       "    </tr>\n",
       "    <tr>\n",
       "      <th>...</th>\n",
       "      <th>...</th>\n",
       "      <td>...</td>\n",
       "      <td>...</td>\n",
       "    </tr>\n",
       "    <tr>\n",
       "      <th rowspan=\"5\" valign=\"top\">2015</th>\n",
       "      <th>Action</th>\n",
       "      <td>4.207662</td>\n",
       "      <td>6.180903</td>\n",
       "    </tr>\n",
       "    <tr>\n",
       "      <th>Adventure</th>\n",
       "      <td>5.715702</td>\n",
       "      <td>6.342830</td>\n",
       "    </tr>\n",
       "    <tr>\n",
       "      <th>Animation</th>\n",
       "      <td>2.765619</td>\n",
       "      <td>6.811111</td>\n",
       "    </tr>\n",
       "    <tr>\n",
       "      <th>Fantasy</th>\n",
       "      <td>3.953553</td>\n",
       "      <td>6.350000</td>\n",
       "    </tr>\n",
       "    <tr>\n",
       "      <th>Science Fiction</th>\n",
       "      <td>6.040500</td>\n",
       "      <td>6.487500</td>\n",
       "    </tr>\n",
       "  </tbody>\n",
       "</table>\n",
       "<p>256 rows × 2 columns</p>\n",
       "</div>"
      ],
      "text/plain": [
       "                      Popularity  Vote_Average\n",
       "Year Genre                                    \n",
       "1960 Action             1.504538      6.950000\n",
       "     Adventure          1.872132      7.000000\n",
       "1961 Action             0.464139      6.550000\n",
       "     Adventure          1.693268      6.800000\n",
       "     Animation          2.631987      6.600000\n",
       "...                          ...           ...\n",
       "2015 Action             4.207662      6.180903\n",
       "     Adventure          5.715702      6.342830\n",
       "     Animation          2.765619      6.811111\n",
       "     Fantasy            3.953553      6.350000\n",
       "     Science Fiction    6.040500      6.487500\n",
       "\n",
       "[256 rows x 2 columns]"
      ]
     },
     "execution_count": 33,
     "metadata": {},
     "output_type": "execute_result"
    }
   ],
   "source": [
    "top5_genres"
   ]
  },
  {
   "cell_type": "markdown",
   "metadata": {},
   "source": [
    "By gradually unstacking from the deeper level we can tehn bring `Popularity` and `Vote_Average` into the row axis. Doing this it will be much helpful to perform operation at a column level, without having to query the multiindex directly"
   ]
  },
  {
   "cell_type": "code",
   "execution_count": 34,
   "metadata": {
    "scrolled": false
   },
   "outputs": [],
   "source": [
    "top5_genres = top5_genres.unstack(0)\n",
    "top5_genres = top5_genres.unstack(1)\n",
    "top5_genres = top5_genres.unstack(2)"
   ]
  },
  {
   "cell_type": "code",
   "execution_count": 35,
   "metadata": {
    "scrolled": false
   },
   "outputs": [
    {
     "data": {
      "text/html": [
       "<div>\n",
       "<style scoped>\n",
       "    .dataframe tbody tr th:only-of-type {\n",
       "        vertical-align: middle;\n",
       "    }\n",
       "\n",
       "    .dataframe tbody tr th {\n",
       "        vertical-align: top;\n",
       "    }\n",
       "\n",
       "    .dataframe thead th {\n",
       "        text-align: right;\n",
       "    }\n",
       "</style>\n",
       "<table border=\"1\" class=\"dataframe\">\n",
       "  <thead>\n",
       "    <tr style=\"text-align: right;\">\n",
       "      <th></th>\n",
       "      <th>Genre</th>\n",
       "      <th>Action</th>\n",
       "      <th>Adventure</th>\n",
       "      <th>Animation</th>\n",
       "      <th>Fantasy</th>\n",
       "      <th>Science Fiction</th>\n",
       "      <th>Documentary</th>\n",
       "    </tr>\n",
       "    <tr>\n",
       "      <th></th>\n",
       "      <th>Year</th>\n",
       "      <th></th>\n",
       "      <th></th>\n",
       "      <th></th>\n",
       "      <th></th>\n",
       "      <th></th>\n",
       "      <th></th>\n",
       "    </tr>\n",
       "  </thead>\n",
       "  <tbody>\n",
       "    <tr>\n",
       "      <th rowspan=\"5\" valign=\"top\">Popularity</th>\n",
       "      <th>1960</th>\n",
       "      <td>1.504538</td>\n",
       "      <td>1.872132</td>\n",
       "      <td>NaN</td>\n",
       "      <td>NaN</td>\n",
       "      <td>NaN</td>\n",
       "      <td>NaN</td>\n",
       "    </tr>\n",
       "    <tr>\n",
       "      <th>1961</th>\n",
       "      <td>0.464139</td>\n",
       "      <td>1.693268</td>\n",
       "      <td>2.631987</td>\n",
       "      <td>NaN</td>\n",
       "      <td>NaN</td>\n",
       "      <td>NaN</td>\n",
       "    </tr>\n",
       "    <tr>\n",
       "      <th>1962</th>\n",
       "      <td>1.848380</td>\n",
       "      <td>1.347908</td>\n",
       "      <td>NaN</td>\n",
       "      <td>NaN</td>\n",
       "      <td>NaN</td>\n",
       "      <td>NaN</td>\n",
       "    </tr>\n",
       "    <tr>\n",
       "      <th>1963</th>\n",
       "      <td>1.357698</td>\n",
       "      <td>1.586280</td>\n",
       "      <td>NaN</td>\n",
       "      <td>NaN</td>\n",
       "      <td>NaN</td>\n",
       "      <td>NaN</td>\n",
       "    </tr>\n",
       "    <tr>\n",
       "      <th>1964</th>\n",
       "      <td>3.153791</td>\n",
       "      <td>3.153791</td>\n",
       "      <td>NaN</td>\n",
       "      <td>1.987819</td>\n",
       "      <td>NaN</td>\n",
       "      <td>NaN</td>\n",
       "    </tr>\n",
       "    <tr>\n",
       "      <th>...</th>\n",
       "      <th>...</th>\n",
       "      <td>...</td>\n",
       "      <td>...</td>\n",
       "      <td>...</td>\n",
       "      <td>...</td>\n",
       "      <td>...</td>\n",
       "      <td>...</td>\n",
       "    </tr>\n",
       "    <tr>\n",
       "      <th rowspan=\"5\" valign=\"top\">Vote_Average</th>\n",
       "      <th>2011</th>\n",
       "      <td>5.901541</td>\n",
       "      <td>6.135675</td>\n",
       "      <td>6.038889</td>\n",
       "      <td>6.147475</td>\n",
       "      <td>5.875000</td>\n",
       "      <td>6.525</td>\n",
       "    </tr>\n",
       "    <tr>\n",
       "      <th>2012</th>\n",
       "      <td>6.155952</td>\n",
       "      <td>6.384722</td>\n",
       "      <td>6.372917</td>\n",
       "      <td>6.275000</td>\n",
       "      <td>6.132292</td>\n",
       "      <td>5.600</td>\n",
       "    </tr>\n",
       "    <tr>\n",
       "      <th>2013</th>\n",
       "      <td>6.127232</td>\n",
       "      <td>6.585609</td>\n",
       "      <td>6.172222</td>\n",
       "      <td>6.441667</td>\n",
       "      <td>6.520417</td>\n",
       "      <td>NaN</td>\n",
       "    </tr>\n",
       "    <tr>\n",
       "      <th>2014</th>\n",
       "      <td>6.484136</td>\n",
       "      <td>6.543492</td>\n",
       "      <td>7.202500</td>\n",
       "      <td>6.490000</td>\n",
       "      <td>6.663889</td>\n",
       "      <td>NaN</td>\n",
       "    </tr>\n",
       "    <tr>\n",
       "      <th>2015</th>\n",
       "      <td>6.180903</td>\n",
       "      <td>6.342830</td>\n",
       "      <td>6.811111</td>\n",
       "      <td>6.350000</td>\n",
       "      <td>6.487500</td>\n",
       "      <td>NaN</td>\n",
       "    </tr>\n",
       "  </tbody>\n",
       "</table>\n",
       "<p>112 rows × 6 columns</p>\n",
       "</div>"
      ],
      "text/plain": [
       "Genre                Action  Adventure  Animation   Fantasy  Science Fiction  \\\n",
       "             Year                                                              \n",
       "Popularity   1960  1.504538   1.872132        NaN       NaN              NaN   \n",
       "             1961  0.464139   1.693268   2.631987       NaN              NaN   \n",
       "             1962  1.848380   1.347908        NaN       NaN              NaN   \n",
       "             1963  1.357698   1.586280        NaN       NaN              NaN   \n",
       "             1964  3.153791   3.153791        NaN  1.987819              NaN   \n",
       "...                     ...        ...        ...       ...              ...   \n",
       "Vote_Average 2011  5.901541   6.135675   6.038889  6.147475         5.875000   \n",
       "             2012  6.155952   6.384722   6.372917  6.275000         6.132292   \n",
       "             2013  6.127232   6.585609   6.172222  6.441667         6.520417   \n",
       "             2014  6.484136   6.543492   7.202500  6.490000         6.663889   \n",
       "             2015  6.180903   6.342830   6.811111  6.350000         6.487500   \n",
       "\n",
       "Genre              Documentary  \n",
       "             Year               \n",
       "Popularity   1960          NaN  \n",
       "             1961          NaN  \n",
       "             1962          NaN  \n",
       "             1963          NaN  \n",
       "             1964          NaN  \n",
       "...                        ...  \n",
       "Vote_Average 2011        6.525  \n",
       "             2012        5.600  \n",
       "             2013          NaN  \n",
       "             2014          NaN  \n",
       "             2015          NaN  \n",
       "\n",
       "[112 rows x 6 columns]"
      ]
     },
     "execution_count": 35,
     "metadata": {},
     "output_type": "execute_result"
    }
   ],
   "source": [
    "top5_genres"
   ]
  },
  {
   "cell_type": "markdown",
   "metadata": {},
   "source": [
    "Let's create two different dataframes one for each variable in our analysis `(Popularity and Vote Average)`"
   ]
  },
  {
   "cell_type": "code",
   "execution_count": 36,
   "metadata": {},
   "outputs": [],
   "source": [
    "top5_genres_pop = top5_genres.loc['Popularity']"
   ]
  },
  {
   "cell_type": "code",
   "execution_count": 37,
   "metadata": {},
   "outputs": [],
   "source": [
    "top5_genres_vote = top5_genres.loc['Vote_Average']"
   ]
  },
  {
   "cell_type": "markdown",
   "metadata": {},
   "source": [
    "I finally create moving averages for each genre column for both dataframes, I will then drop the old ones as these are not useful anymore for our analysis.\n",
    "**Moving averages for `Popularity`:**"
   ]
  },
  {
   "cell_type": "code",
   "execution_count": 38,
   "metadata": {},
   "outputs": [],
   "source": [
    "top5_genres_pop['ActionMA'] = top5_genres_pop['Action'].rolling(window=5,min_periods=1).mean()\n",
    "top5_genres_pop['AdventureMA'] = top5_genres_pop['Adventure'].rolling(window=5,min_periods=1).mean()\n",
    "top5_genres_pop['FantasyMA'] = top5_genres_pop['Fantasy'].rolling(window=5,min_periods=1).mean()\n",
    "top5_genres_pop['Science FictionMA'] = top5_genres_pop['Science Fiction'].rolling(window=5,min_periods=1).mean()\n",
    "top5_genres_pop['AnimationMA'] = top5_genres_pop['Animation'].rolling(window=5,min_periods=1).mean()\n",
    "top5_genres_pop['DocumentaryMA'] = top5_genres_pop['Documentary'].rolling(window=5,min_periods=1).mean()"
   ]
  },
  {
   "cell_type": "markdown",
   "metadata": {},
   "source": [
    "**Moving averages for `Vote_Average`:**"
   ]
  },
  {
   "cell_type": "code",
   "execution_count": 39,
   "metadata": {},
   "outputs": [],
   "source": [
    "top5_genres_vote['ActionMA'] = top5_genres_vote['Action'].rolling(window=5,min_periods=1).mean()\n",
    "top5_genres_vote['AdventureMA'] = top5_genres_vote['Adventure'].rolling(window=5,min_periods=1).mean()\n",
    "top5_genres_vote['FantasyMA'] = top5_genres_vote['Fantasy'].rolling(window=5,min_periods=1).mean()\n",
    "top5_genres_vote['Science FictionMA'] = top5_genres_vote['Science Fiction'].rolling(window=5,min_periods=1).mean()\n",
    "top5_genres_vote['AnimationMA'] = top5_genres_vote['Animation'].rolling(window=5,min_periods=1).mean()\n",
    "top5_genres_vote['DocumentaryMA'] = top5_genres_vote['Documentary'].rolling(window=5,min_periods=1).mean()"
   ]
  },
  {
   "cell_type": "markdown",
   "metadata": {},
   "source": [
    "Droping original columns and keeping the moving averages"
   ]
  },
  {
   "cell_type": "code",
   "execution_count": 40,
   "metadata": {},
   "outputs": [],
   "source": [
    "top5_genres_pop.drop(['Action','Adventure','Fantasy','Science Fiction','Animation','Documentary'],axis=1, inplace=True)\n",
    "top5_genres_vote.drop(['Action','Adventure','Fantasy','Science Fiction','Animation','Documentary'],axis=1, inplace=True)"
   ]
  },
  {
   "cell_type": "code",
   "execution_count": 41,
   "metadata": {},
   "outputs": [
    {
     "data": {
      "text/html": [
       "<div>\n",
       "<style scoped>\n",
       "    .dataframe tbody tr th:only-of-type {\n",
       "        vertical-align: middle;\n",
       "    }\n",
       "\n",
       "    .dataframe tbody tr th {\n",
       "        vertical-align: top;\n",
       "    }\n",
       "\n",
       "    .dataframe thead th {\n",
       "        text-align: right;\n",
       "    }\n",
       "</style>\n",
       "<table border=\"1\" class=\"dataframe\">\n",
       "  <thead>\n",
       "    <tr style=\"text-align: right;\">\n",
       "      <th>Genre</th>\n",
       "      <th>ActionMA</th>\n",
       "      <th>AdventureMA</th>\n",
       "      <th>FantasyMA</th>\n",
       "      <th>Science FictionMA</th>\n",
       "      <th>AnimationMA</th>\n",
       "      <th>DocumentaryMA</th>\n",
       "    </tr>\n",
       "    <tr>\n",
       "      <th>Year</th>\n",
       "      <th></th>\n",
       "      <th></th>\n",
       "      <th></th>\n",
       "      <th></th>\n",
       "      <th></th>\n",
       "      <th></th>\n",
       "    </tr>\n",
       "  </thead>\n",
       "  <tbody>\n",
       "    <tr>\n",
       "      <th>1960</th>\n",
       "      <td>1.504538</td>\n",
       "      <td>1.872132</td>\n",
       "      <td>NaN</td>\n",
       "      <td>NaN</td>\n",
       "      <td>NaN</td>\n",
       "      <td>NaN</td>\n",
       "    </tr>\n",
       "    <tr>\n",
       "      <th>1961</th>\n",
       "      <td>0.984339</td>\n",
       "      <td>1.782700</td>\n",
       "      <td>NaN</td>\n",
       "      <td>NaN</td>\n",
       "      <td>2.631987</td>\n",
       "      <td>NaN</td>\n",
       "    </tr>\n",
       "    <tr>\n",
       "      <th>1962</th>\n",
       "      <td>1.272352</td>\n",
       "      <td>1.637769</td>\n",
       "      <td>NaN</td>\n",
       "      <td>NaN</td>\n",
       "      <td>2.631987</td>\n",
       "      <td>NaN</td>\n",
       "    </tr>\n",
       "    <tr>\n",
       "      <th>1963</th>\n",
       "      <td>1.293689</td>\n",
       "      <td>1.624897</td>\n",
       "      <td>NaN</td>\n",
       "      <td>NaN</td>\n",
       "      <td>2.631987</td>\n",
       "      <td>NaN</td>\n",
       "    </tr>\n",
       "    <tr>\n",
       "      <th>1964</th>\n",
       "      <td>1.665709</td>\n",
       "      <td>1.930676</td>\n",
       "      <td>1.987819</td>\n",
       "      <td>NaN</td>\n",
       "      <td>2.631987</td>\n",
       "      <td>NaN</td>\n",
       "    </tr>\n",
       "  </tbody>\n",
       "</table>\n",
       "</div>"
      ],
      "text/plain": [
       "Genre  ActionMA  AdventureMA  FantasyMA  Science FictionMA  AnimationMA  \\\n",
       "Year                                                                      \n",
       "1960   1.504538     1.872132        NaN                NaN          NaN   \n",
       "1961   0.984339     1.782700        NaN                NaN     2.631987   \n",
       "1962   1.272352     1.637769        NaN                NaN     2.631987   \n",
       "1963   1.293689     1.624897        NaN                NaN     2.631987   \n",
       "1964   1.665709     1.930676   1.987819                NaN     2.631987   \n",
       "\n",
       "Genre  DocumentaryMA  \n",
       "Year                  \n",
       "1960             NaN  \n",
       "1961             NaN  \n",
       "1962             NaN  \n",
       "1963             NaN  \n",
       "1964             NaN  "
      ]
     },
     "execution_count": 41,
     "metadata": {},
     "output_type": "execute_result"
    }
   ],
   "source": [
    "top5_genres_pop.head()"
   ]
  },
  {
   "cell_type": "code",
   "execution_count": 42,
   "metadata": {},
   "outputs": [
    {
     "data": {
      "text/html": [
       "<div>\n",
       "<style scoped>\n",
       "    .dataframe tbody tr th:only-of-type {\n",
       "        vertical-align: middle;\n",
       "    }\n",
       "\n",
       "    .dataframe tbody tr th {\n",
       "        vertical-align: top;\n",
       "    }\n",
       "\n",
       "    .dataframe thead th {\n",
       "        text-align: right;\n",
       "    }\n",
       "</style>\n",
       "<table border=\"1\" class=\"dataframe\">\n",
       "  <thead>\n",
       "    <tr style=\"text-align: right;\">\n",
       "      <th>Genre</th>\n",
       "      <th>ActionMA</th>\n",
       "      <th>AdventureMA</th>\n",
       "      <th>FantasyMA</th>\n",
       "      <th>Science FictionMA</th>\n",
       "      <th>AnimationMA</th>\n",
       "      <th>DocumentaryMA</th>\n",
       "    </tr>\n",
       "    <tr>\n",
       "      <th>Year</th>\n",
       "      <th></th>\n",
       "      <th></th>\n",
       "      <th></th>\n",
       "      <th></th>\n",
       "      <th></th>\n",
       "      <th></th>\n",
       "    </tr>\n",
       "  </thead>\n",
       "  <tbody>\n",
       "    <tr>\n",
       "      <th>1960</th>\n",
       "      <td>6.950000</td>\n",
       "      <td>7.000</td>\n",
       "      <td>NaN</td>\n",
       "      <td>NaN</td>\n",
       "      <td>NaN</td>\n",
       "      <td>NaN</td>\n",
       "    </tr>\n",
       "    <tr>\n",
       "      <th>1961</th>\n",
       "      <td>6.750000</td>\n",
       "      <td>6.900</td>\n",
       "      <td>NaN</td>\n",
       "      <td>NaN</td>\n",
       "      <td>6.6</td>\n",
       "      <td>NaN</td>\n",
       "    </tr>\n",
       "    <tr>\n",
       "      <th>1962</th>\n",
       "      <td>6.633333</td>\n",
       "      <td>6.800</td>\n",
       "      <td>NaN</td>\n",
       "      <td>NaN</td>\n",
       "      <td>6.6</td>\n",
       "      <td>NaN</td>\n",
       "    </tr>\n",
       "    <tr>\n",
       "      <th>1963</th>\n",
       "      <td>6.512500</td>\n",
       "      <td>6.875</td>\n",
       "      <td>NaN</td>\n",
       "      <td>NaN</td>\n",
       "      <td>6.6</td>\n",
       "      <td>NaN</td>\n",
       "    </tr>\n",
       "    <tr>\n",
       "      <th>1964</th>\n",
       "      <td>6.610000</td>\n",
       "      <td>6.900</td>\n",
       "      <td>7.2</td>\n",
       "      <td>NaN</td>\n",
       "      <td>6.6</td>\n",
       "      <td>NaN</td>\n",
       "    </tr>\n",
       "  </tbody>\n",
       "</table>\n",
       "</div>"
      ],
      "text/plain": [
       "Genre  ActionMA  AdventureMA  FantasyMA  Science FictionMA  AnimationMA  \\\n",
       "Year                                                                      \n",
       "1960   6.950000        7.000        NaN                NaN          NaN   \n",
       "1961   6.750000        6.900        NaN                NaN          6.6   \n",
       "1962   6.633333        6.800        NaN                NaN          6.6   \n",
       "1963   6.512500        6.875        NaN                NaN          6.6   \n",
       "1964   6.610000        6.900        7.2                NaN          6.6   \n",
       "\n",
       "Genre  DocumentaryMA  \n",
       "Year                  \n",
       "1960             NaN  \n",
       "1961             NaN  \n",
       "1962             NaN  \n",
       "1963             NaN  \n",
       "1964             NaN  "
      ]
     },
     "execution_count": 42,
     "metadata": {},
     "output_type": "execute_result"
    }
   ],
   "source": [
    "top5_genres_vote.head()"
   ]
  },
  {
   "cell_type": "markdown",
   "metadata": {},
   "source": [
    "Let's plot the TOP 5 genres by popularity (also including `Documentary`) and also plot these same genres by vote_average"
   ]
  },
  {
   "cell_type": "code",
   "execution_count": 43,
   "metadata": {},
   "outputs": [
    {
     "data": {
      "text/plain": [
       "''"
      ]
     },
     "execution_count": 43,
     "metadata": {},
     "output_type": "execute_result"
    },
    {
     "data": {
      "image/png": "[encoded data removed]",
      "text/plain": [
       "<Figure size 720x432 with 1 Axes>"
      ]
     },
     "metadata": {
      "needs_background": "light"
     },
     "output_type": "display_data"
    },
    {
     "data": {
      "image/png": "[encoded data removed]",
      "text/plain": [
       "<Figure size 720x432 with 1 Axes>"
      ]
     },
     "metadata": {
      "needs_background": "light"
     },
     "output_type": "display_data"
    }
   ],
   "source": [
    "legend = ['Action','Adventure','Fantasy','Science Fiction','Animation','Documentary']\n",
    "\n",
    "top5_genres_pop.plot(figsize=(10,6))\n",
    "plt.legend(legend)\n",
    "plt.xlabel('Year', fontsize=14)\n",
    "plt.ylabel('Popularity Index', fontsize=14)\n",
    "plt.title('Popularity of the TOP5 most popular genres since 1960 - including Documentary', fontsize=16)\n",
    ";\n",
    "\n",
    "top5_genres_vote.plot(figsize=(10,6))\n",
    "plt.legend(legend)\n",
    "plt.xlabel('Year', fontsize=14)\n",
    "plt.ylabel('Average vote', fontsize=14)\n",
    "plt.title('Average vote of the TOP5 most popular genres since 1960 - including Documentary', fontsize=16)\n",
    ";"
   ]
  },
  {
   "cell_type": "markdown",
   "metadata": {},
   "source": [
    "When looking at the popularity chart we can already spot some peaks for particular genres that perhaps can be explained from certain movies or sagas that were very popular at that particular moment.\n",
    "- `Science Fiction` peak at the late 70's, early 80's because of the original Star Wars trilogy\n",
    "- `Animation` peak at the mid 90's mainly because of The Lion King and Toy Story \n",
    "- `Fantasy` peak at the early 00's because of The Lord of the Rings trilogy\n",
    "\n",
    "To reinforce what we have already seen when looking at the series fo the most popular and higher vote_average for the TOP genres. There is no correlation at all between these two variables. The only genre that seems to be correlated is Animation.\n",
    "`Documentary`genre is a great example because is the least popular genre, but at the same time is the on with higher vote_average through time, at a notable distance from our TOP5 most popular genres, even though its average_vote has been decreasing from 2010 and now it's at the same level that the other genres."
   ]
  },
  {
   "cell_type": "markdown",
   "metadata": {},
   "source": [
    "<a id='eda2'></a>\n",
    "### Research Question 2\n",
    "**1. Who are the directors that are getting higher profits for their movies? Are these directors among the ones with higher vote averages? Is there a correlation between these two variables?**"
   ]
  },
  {
   "cell_type": "markdown",
   "metadata": {},
   "source": [
    "First I remove the movies with no value associated in the `director`column so that they don't compromise the analysis. I would also remove the values with no budget or revenue as they also affect the analysis."
   ]
  },
  {
   "cell_type": "code",
   "execution_count": 44,
   "metadata": {},
   "outputs": [
    {
     "data": {
      "text/html": [
       "<div>\n",
       "<style scoped>\n",
       "    .dataframe tbody tr th:only-of-type {\n",
       "        vertical-align: middle;\n",
       "    }\n",
       "\n",
       "    .dataframe tbody tr th {\n",
       "        vertical-align: top;\n",
       "    }\n",
       "\n",
       "    .dataframe thead th {\n",
       "        text-align: right;\n",
       "    }\n",
       "</style>\n",
       "<table border=\"1\" class=\"dataframe\">\n",
       "  <thead>\n",
       "    <tr style=\"text-align: right;\">\n",
       "      <th></th>\n",
       "      <th>id</th>\n",
       "      <th>imdb_id</th>\n",
       "      <th>popularity</th>\n",
       "      <th>budget</th>\n",
       "      <th>revenue</th>\n",
       "      <th>original_title</th>\n",
       "      <th>cast</th>\n",
       "      <th>homepage</th>\n",
       "      <th>director</th>\n",
       "      <th>tagline</th>\n",
       "      <th>...</th>\n",
       "      <th>vote_count</th>\n",
       "      <th>vote_average</th>\n",
       "      <th>release_year</th>\n",
       "      <th>budget_adj</th>\n",
       "      <th>revenue_adj</th>\n",
       "      <th>genre1</th>\n",
       "      <th>genre2</th>\n",
       "      <th>genre3</th>\n",
       "      <th>genre4</th>\n",
       "      <th>genre5</th>\n",
       "    </tr>\n",
       "  </thead>\n",
       "  <tbody>\n",
       "    <tr>\n",
       "      <th>0</th>\n",
       "      <td>135397</td>\n",
       "      <td>tt0369610</td>\n",
       "      <td>32.985763</td>\n",
       "      <td>150000000</td>\n",
       "      <td>1513528810</td>\n",
       "      <td>Jurassic World</td>\n",
       "      <td>Chris Pratt|Bryce Dallas Howard|Irrfan Khan|Vi...</td>\n",
       "      <td>http://www.jurassicworld.com/</td>\n",
       "      <td>Colin Trevorrow</td>\n",
       "      <td>The park is open.</td>\n",
       "      <td>...</td>\n",
       "      <td>5562</td>\n",
       "      <td>6.5</td>\n",
       "      <td>2015</td>\n",
       "      <td>1.379999e+08</td>\n",
       "      <td>1.392446e+09</td>\n",
       "      <td>Action</td>\n",
       "      <td>Adventure</td>\n",
       "      <td>Science Fiction</td>\n",
       "      <td>Thriller</td>\n",
       "      <td>None</td>\n",
       "    </tr>\n",
       "    <tr>\n",
       "      <th>1</th>\n",
       "      <td>76341</td>\n",
       "      <td>tt1392190</td>\n",
       "      <td>28.419936</td>\n",
       "      <td>150000000</td>\n",
       "      <td>378436354</td>\n",
       "      <td>Mad Max: Fury Road</td>\n",
       "      <td>Tom Hardy|Charlize Theron|Hugh Keays-Byrne|Nic...</td>\n",
       "      <td>http://www.madmaxmovie.com/</td>\n",
       "      <td>George Miller</td>\n",
       "      <td>What a Lovely Day.</td>\n",
       "      <td>...</td>\n",
       "      <td>6185</td>\n",
       "      <td>7.1</td>\n",
       "      <td>2015</td>\n",
       "      <td>1.379999e+08</td>\n",
       "      <td>3.481613e+08</td>\n",
       "      <td>Action</td>\n",
       "      <td>Adventure</td>\n",
       "      <td>Science Fiction</td>\n",
       "      <td>Thriller</td>\n",
       "      <td>None</td>\n",
       "    </tr>\n",
       "    <tr>\n",
       "      <th>2</th>\n",
       "      <td>262500</td>\n",
       "      <td>tt2908446</td>\n",
       "      <td>13.112507</td>\n",
       "      <td>110000000</td>\n",
       "      <td>295238201</td>\n",
       "      <td>Insurgent</td>\n",
       "      <td>Shailene Woodley|Theo James|Kate Winslet|Ansel...</td>\n",
       "      <td>http://www.thedivergentseries.movie/#insurgent</td>\n",
       "      <td>Robert Schwentke</td>\n",
       "      <td>One Choice Can Destroy You</td>\n",
       "      <td>...</td>\n",
       "      <td>2480</td>\n",
       "      <td>6.3</td>\n",
       "      <td>2015</td>\n",
       "      <td>1.012000e+08</td>\n",
       "      <td>2.716190e+08</td>\n",
       "      <td>Adventure</td>\n",
       "      <td>Science Fiction</td>\n",
       "      <td>Thriller</td>\n",
       "      <td>None</td>\n",
       "      <td>None</td>\n",
       "    </tr>\n",
       "    <tr>\n",
       "      <th>3</th>\n",
       "      <td>140607</td>\n",
       "      <td>tt2488496</td>\n",
       "      <td>11.173104</td>\n",
       "      <td>200000000</td>\n",
       "      <td>2068178225</td>\n",
       "      <td>Star Wars: The Force Awakens</td>\n",
       "      <td>Harrison Ford|Mark Hamill|Carrie Fisher|Adam D...</td>\n",
       "      <td>http://www.starwars.com/films/star-wars-episod...</td>\n",
       "      <td>J.J. Abrams</td>\n",
       "      <td>Every generation has a story.</td>\n",
       "      <td>...</td>\n",
       "      <td>5292</td>\n",
       "      <td>7.5</td>\n",
       "      <td>2015</td>\n",
       "      <td>1.839999e+08</td>\n",
       "      <td>1.902723e+09</td>\n",
       "      <td>Action</td>\n",
       "      <td>Adventure</td>\n",
       "      <td>Science Fiction</td>\n",
       "      <td>Fantasy</td>\n",
       "      <td>None</td>\n",
       "    </tr>\n",
       "    <tr>\n",
       "      <th>4</th>\n",
       "      <td>168259</td>\n",
       "      <td>tt2820852</td>\n",
       "      <td>9.335014</td>\n",
       "      <td>190000000</td>\n",
       "      <td>1506249360</td>\n",
       "      <td>Furious 7</td>\n",
       "      <td>Vin Diesel|Paul Walker|Jason Statham|Michelle ...</td>\n",
       "      <td>http://www.furious7.com/</td>\n",
       "      <td>James Wan</td>\n",
       "      <td>Vengeance Hits Home</td>\n",
       "      <td>...</td>\n",
       "      <td>2947</td>\n",
       "      <td>7.3</td>\n",
       "      <td>2015</td>\n",
       "      <td>1.747999e+08</td>\n",
       "      <td>1.385749e+09</td>\n",
       "      <td>Action</td>\n",
       "      <td>Crime</td>\n",
       "      <td>Thriller</td>\n",
       "      <td>None</td>\n",
       "      <td>None</td>\n",
       "    </tr>\n",
       "    <tr>\n",
       "      <th>...</th>\n",
       "      <td>...</td>\n",
       "      <td>...</td>\n",
       "      <td>...</td>\n",
       "      <td>...</td>\n",
       "      <td>...</td>\n",
       "      <td>...</td>\n",
       "      <td>...</td>\n",
       "      <td>...</td>\n",
       "      <td>...</td>\n",
       "      <td>...</td>\n",
       "      <td>...</td>\n",
       "      <td>...</td>\n",
       "      <td>...</td>\n",
       "      <td>...</td>\n",
       "      <td>...</td>\n",
       "      <td>...</td>\n",
       "      <td>...</td>\n",
       "      <td>...</td>\n",
       "      <td>...</td>\n",
       "      <td>...</td>\n",
       "      <td>...</td>\n",
       "    </tr>\n",
       "    <tr>\n",
       "      <th>3849</th>\n",
       "      <td>396</td>\n",
       "      <td>tt0061184</td>\n",
       "      <td>0.670274</td>\n",
       "      <td>7500000</td>\n",
       "      <td>33736689</td>\n",
       "      <td>Who's Afraid of Virginia Woolf?</td>\n",
       "      <td>Elizabeth Taylor|Richard Burton|George Segal|S...</td>\n",
       "      <td>No value</td>\n",
       "      <td>Mike Nichols</td>\n",
       "      <td>You are cordially invited to George and Martha...</td>\n",
       "      <td>...</td>\n",
       "      <td>74</td>\n",
       "      <td>7.5</td>\n",
       "      <td>1966</td>\n",
       "      <td>5.038511e+07</td>\n",
       "      <td>2.266436e+08</td>\n",
       "      <td>Drama</td>\n",
       "      <td>None</td>\n",
       "      <td>None</td>\n",
       "      <td>None</td>\n",
       "      <td>None</td>\n",
       "    </tr>\n",
       "    <tr>\n",
       "      <th>3850</th>\n",
       "      <td>5780</td>\n",
       "      <td>tt0061107</td>\n",
       "      <td>0.402730</td>\n",
       "      <td>3000000</td>\n",
       "      <td>13000000</td>\n",
       "      <td>Torn Curtain</td>\n",
       "      <td>Paul Newman|Julie Andrews|Lila Kedrova|HansjÃ¶...</td>\n",
       "      <td>No value</td>\n",
       "      <td>Alfred Hitchcock</td>\n",
       "      <td>It tears you apart with suspense!</td>\n",
       "      <td>...</td>\n",
       "      <td>46</td>\n",
       "      <td>6.3</td>\n",
       "      <td>1966</td>\n",
       "      <td>2.015404e+07</td>\n",
       "      <td>8.733419e+07</td>\n",
       "      <td>Mystery</td>\n",
       "      <td>Thriller</td>\n",
       "      <td>None</td>\n",
       "      <td>None</td>\n",
       "      <td>None</td>\n",
       "    </tr>\n",
       "    <tr>\n",
       "      <th>3851</th>\n",
       "      <td>6644</td>\n",
       "      <td>tt0061619</td>\n",
       "      <td>0.395668</td>\n",
       "      <td>4653000</td>\n",
       "      <td>6000000</td>\n",
       "      <td>El Dorado</td>\n",
       "      <td>John Wayne|Robert Mitchum|James Caan|Charlene ...</td>\n",
       "      <td>No value</td>\n",
       "      <td>Howard Hawks</td>\n",
       "      <td>It's the Big One with the Big Two</td>\n",
       "      <td>...</td>\n",
       "      <td>36</td>\n",
       "      <td>6.9</td>\n",
       "      <td>1966</td>\n",
       "      <td>3.125892e+07</td>\n",
       "      <td>4.030809e+07</td>\n",
       "      <td>Action</td>\n",
       "      <td>Western</td>\n",
       "      <td>None</td>\n",
       "      <td>None</td>\n",
       "      <td>None</td>\n",
       "    </tr>\n",
       "    <tr>\n",
       "      <th>3852</th>\n",
       "      <td>5923</td>\n",
       "      <td>tt0060934</td>\n",
       "      <td>0.299911</td>\n",
       "      <td>12000000</td>\n",
       "      <td>20000000</td>\n",
       "      <td>The Sand Pebbles</td>\n",
       "      <td>Steve McQueen|Richard Attenborough|Richard Cre...</td>\n",
       "      <td>No value</td>\n",
       "      <td>Robert Wise</td>\n",
       "      <td>This is the heroic story of the men on the U.S...</td>\n",
       "      <td>...</td>\n",
       "      <td>28</td>\n",
       "      <td>7.0</td>\n",
       "      <td>1966</td>\n",
       "      <td>8.061618e+07</td>\n",
       "      <td>1.343603e+08</td>\n",
       "      <td>Action</td>\n",
       "      <td>Adventure</td>\n",
       "      <td>Drama</td>\n",
       "      <td>War</td>\n",
       "      <td>Romance</td>\n",
       "    </tr>\n",
       "    <tr>\n",
       "      <th>3853</th>\n",
       "      <td>2161</td>\n",
       "      <td>tt0060397</td>\n",
       "      <td>0.207257</td>\n",
       "      <td>5115000</td>\n",
       "      <td>12000000</td>\n",
       "      <td>Fantastic Voyage</td>\n",
       "      <td>Stephen Boyd|Raquel Welch|Edmond O'Brien|Donal...</td>\n",
       "      <td>No value</td>\n",
       "      <td>Richard Fleischer</td>\n",
       "      <td>A Fantastic and Spectacular Voyage... Through ...</td>\n",
       "      <td>...</td>\n",
       "      <td>42</td>\n",
       "      <td>6.7</td>\n",
       "      <td>1966</td>\n",
       "      <td>3.436265e+07</td>\n",
       "      <td>8.061618e+07</td>\n",
       "      <td>Adventure</td>\n",
       "      <td>Science Fiction</td>\n",
       "      <td>None</td>\n",
       "      <td>None</td>\n",
       "      <td>None</td>\n",
       "    </tr>\n",
       "  </tbody>\n",
       "</table>\n",
       "<p>3853 rows × 25 columns</p>\n",
       "</div>"
      ],
      "text/plain": [
       "          id    imdb_id  popularity     budget     revenue  \\\n",
       "0     135397  tt0369610   32.985763  150000000  1513528810   \n",
       "1      76341  tt1392190   28.419936  150000000   378436354   \n",
       "2     262500  tt2908446   13.112507  110000000   295238201   \n",
       "3     140607  tt2488496   11.173104  200000000  2068178225   \n",
       "4     168259  tt2820852    9.335014  190000000  1506249360   \n",
       "...      ...        ...         ...        ...         ...   \n",
       "3849     396  tt0061184    0.670274    7500000    33736689   \n",
       "3850    5780  tt0061107    0.402730    3000000    13000000   \n",
       "3851    6644  tt0061619    0.395668    4653000     6000000   \n",
       "3852    5923  tt0060934    0.299911   12000000    20000000   \n",
       "3853    2161  tt0060397    0.207257    5115000    12000000   \n",
       "\n",
       "                       original_title  \\\n",
       "0                      Jurassic World   \n",
       "1                  Mad Max: Fury Road   \n",
       "2                           Insurgent   \n",
       "3        Star Wars: The Force Awakens   \n",
       "4                           Furious 7   \n",
       "...                               ...   \n",
       "3849  Who's Afraid of Virginia Woolf?   \n",
       "3850                     Torn Curtain   \n",
       "3851                        El Dorado   \n",
       "3852                 The Sand Pebbles   \n",
       "3853                 Fantastic Voyage   \n",
       "\n",
       "                                                   cast  \\\n",
       "0     Chris Pratt|Bryce Dallas Howard|Irrfan Khan|Vi...   \n",
       "1     Tom Hardy|Charlize Theron|Hugh Keays-Byrne|Nic...   \n",
       "2     Shailene Woodley|Theo James|Kate Winslet|Ansel...   \n",
       "3     Harrison Ford|Mark Hamill|Carrie Fisher|Adam D...   \n",
       "4     Vin Diesel|Paul Walker|Jason Statham|Michelle ...   \n",
       "...                                                 ...   \n",
       "3849  Elizabeth Taylor|Richard Burton|George Segal|S...   \n",
       "3850  Paul Newman|Julie Andrews|Lila Kedrova|HansjÃ¶...   \n",
       "3851  John Wayne|Robert Mitchum|James Caan|Charlene ...   \n",
       "3852  Steve McQueen|Richard Attenborough|Richard Cre...   \n",
       "3853  Stephen Boyd|Raquel Welch|Edmond O'Brien|Donal...   \n",
       "\n",
       "                                               homepage           director  \\\n",
       "0                         http://www.jurassicworld.com/    Colin Trevorrow   \n",
       "1                           http://www.madmaxmovie.com/      George Miller   \n",
       "2        http://www.thedivergentseries.movie/#insurgent   Robert Schwentke   \n",
       "3     http://www.starwars.com/films/star-wars-episod...        J.J. Abrams   \n",
       "4                              http://www.furious7.com/          James Wan   \n",
       "...                                                 ...                ...   \n",
       "3849                                           No value       Mike Nichols   \n",
       "3850                                           No value   Alfred Hitchcock   \n",
       "3851                                           No value       Howard Hawks   \n",
       "3852                                           No value        Robert Wise   \n",
       "3853                                           No value  Richard Fleischer   \n",
       "\n",
       "                                                tagline  ... vote_count  \\\n",
       "0                                     The park is open.  ...       5562   \n",
       "1                                    What a Lovely Day.  ...       6185   \n",
       "2                            One Choice Can Destroy You  ...       2480   \n",
       "3                         Every generation has a story.  ...       5292   \n",
       "4                                   Vengeance Hits Home  ...       2947   \n",
       "...                                                 ...  ...        ...   \n",
       "3849  You are cordially invited to George and Martha...  ...         74   \n",
       "3850                  It tears you apart with suspense!  ...         46   \n",
       "3851                  It's the Big One with the Big Two  ...         36   \n",
       "3852  This is the heroic story of the men on the U.S...  ...         28   \n",
       "3853  A Fantastic and Spectacular Voyage... Through ...  ...         42   \n",
       "\n",
       "     vote_average  release_year    budget_adj   revenue_adj     genre1  \\\n",
       "0             6.5          2015  1.379999e+08  1.392446e+09     Action   \n",
       "1             7.1          2015  1.379999e+08  3.481613e+08     Action   \n",
       "2             6.3          2015  1.012000e+08  2.716190e+08  Adventure   \n",
       "3             7.5          2015  1.839999e+08  1.902723e+09     Action   \n",
       "4             7.3          2015  1.747999e+08  1.385749e+09     Action   \n",
       "...           ...           ...           ...           ...        ...   \n",
       "3849          7.5          1966  5.038511e+07  2.266436e+08      Drama   \n",
       "3850          6.3          1966  2.015404e+07  8.733419e+07    Mystery   \n",
       "3851          6.9          1966  3.125892e+07  4.030809e+07     Action   \n",
       "3852          7.0          1966  8.061618e+07  1.343603e+08     Action   \n",
       "3853          6.7          1966  3.436265e+07  8.061618e+07  Adventure   \n",
       "\n",
       "               genre2           genre3    genre4   genre5  \n",
       "0           Adventure  Science Fiction  Thriller     None  \n",
       "1           Adventure  Science Fiction  Thriller     None  \n",
       "2     Science Fiction         Thriller      None     None  \n",
       "3           Adventure  Science Fiction   Fantasy     None  \n",
       "4               Crime         Thriller      None     None  \n",
       "...               ...              ...       ...      ...  \n",
       "3849             None             None      None     None  \n",
       "3850         Thriller             None      None     None  \n",
       "3851          Western             None      None     None  \n",
       "3852        Adventure            Drama       War  Romance  \n",
       "3853  Science Fiction             None      None     None  \n",
       "\n",
       "[3853 rows x 25 columns]"
      ]
     },
     "execution_count": 44,
     "metadata": {},
     "output_type": "execute_result"
    }
   ],
   "source": [
    "movies[movies[\"director\"] != 'No value']"
   ]
  },
  {
   "cell_type": "markdown",
   "metadata": {},
   "source": [
    "I create a groupby function in which I'll pass the new calculated columns we will need for our analysis. For that I will use the agg() method since this one allows me to select a different metric for every column I want to summarize"
   ]
  },
  {
   "cell_type": "code",
   "execution_count": 45,
   "metadata": {},
   "outputs": [],
   "source": [
    "director = movies.groupby('director')"
   ]
  },
  {
   "cell_type": "code",
   "execution_count": 46,
   "metadata": {},
   "outputs": [],
   "source": [
    "director = director.agg({'id':'count','budget_adj':'sum','revenue_adj':'sum', 'vote_average':'mean'})"
   ]
  },
  {
   "cell_type": "markdown",
   "metadata": {},
   "source": [
    "I rename the columns of the new dataframe"
   ]
  },
  {
   "cell_type": "code",
   "execution_count": 47,
   "metadata": {
    "scrolled": true
   },
   "outputs": [
    {
     "data": {
      "text/html": [
       "<div>\n",
       "<style scoped>\n",
       "    .dataframe tbody tr th:only-of-type {\n",
       "        vertical-align: middle;\n",
       "    }\n",
       "\n",
       "    .dataframe tbody tr th {\n",
       "        vertical-align: top;\n",
       "    }\n",
       "\n",
       "    .dataframe thead th {\n",
       "        text-align: right;\n",
       "    }\n",
       "</style>\n",
       "<table border=\"1\" class=\"dataframe\">\n",
       "  <thead>\n",
       "    <tr style=\"text-align: right;\">\n",
       "      <th></th>\n",
       "      <th>Movies</th>\n",
       "      <th>Total_Budget</th>\n",
       "      <th>Total_Revenue</th>\n",
       "      <th>Vote_Average</th>\n",
       "    </tr>\n",
       "    <tr>\n",
       "      <th>director</th>\n",
       "      <th></th>\n",
       "      <th></th>\n",
       "      <th></th>\n",
       "      <th></th>\n",
       "    </tr>\n",
       "  </thead>\n",
       "  <tbody>\n",
       "    <tr>\n",
       "      <th>FrÃ©dÃ©ric Jardin</th>\n",
       "      <td>1</td>\n",
       "      <td>2.423495e+06</td>\n",
       "      <td>3.255239e+03</td>\n",
       "      <td>5.9</td>\n",
       "    </tr>\n",
       "    <tr>\n",
       "      <th>A.R. Murugadoss</th>\n",
       "      <td>1</td>\n",
       "      <td>9.216358e+06</td>\n",
       "      <td>7.697178e+07</td>\n",
       "      <td>6.9</td>\n",
       "    </tr>\n",
       "    <tr>\n",
       "      <th>Aaron Blaise|Robert Walker</th>\n",
       "      <td>1</td>\n",
       "      <td>1.185353e+08</td>\n",
       "      <td>2.963382e+02</td>\n",
       "      <td>6.8</td>\n",
       "    </tr>\n",
       "    <tr>\n",
       "      <th>Aaron Norris</th>\n",
       "      <td>1</td>\n",
       "      <td>8.585801e+06</td>\n",
       "      <td>7.288926e+06</td>\n",
       "      <td>4.7</td>\n",
       "    </tr>\n",
       "    <tr>\n",
       "      <th>Aaron Seltzer|Jason Friedberg</th>\n",
       "      <td>1</td>\n",
       "      <td>2.163338e+07</td>\n",
       "      <td>5.251334e+07</td>\n",
       "      <td>3.9</td>\n",
       "    </tr>\n",
       "  </tbody>\n",
       "</table>\n",
       "</div>"
      ],
      "text/plain": [
       "                               Movies  Total_Budget  Total_Revenue  \\\n",
       "director                                                             \n",
       " FrÃ©dÃ©ric Jardin                  1  2.423495e+06   3.255239e+03   \n",
       "A.R. Murugadoss                     1  9.216358e+06   7.697178e+07   \n",
       "Aaron Blaise|Robert Walker          1  1.185353e+08   2.963382e+02   \n",
       "Aaron Norris                        1  8.585801e+06   7.288926e+06   \n",
       "Aaron Seltzer|Jason Friedberg       1  2.163338e+07   5.251334e+07   \n",
       "\n",
       "                               Vote_Average  \n",
       "director                                     \n",
       " FrÃ©dÃ©ric Jardin                      5.9  \n",
       "A.R. Murugadoss                         6.9  \n",
       "Aaron Blaise|Robert Walker              6.8  \n",
       "Aaron Norris                            4.7  \n",
       "Aaron Seltzer|Jason Friedberg           3.9  "
      ]
     },
     "execution_count": 47,
     "metadata": {},
     "output_type": "execute_result"
    }
   ],
   "source": [
    "columns = ['Movies', 'Total_Budget', 'Total_Revenue','Vote_Average']\n",
    "director.columns = columns\n",
    "\n",
    "director.head()"
   ]
  },
  {
   "cell_type": "markdown",
   "metadata": {},
   "source": [
    "Adding a new field `Total_Profit` to find out which is the director that is driving a higher total profit, regardless of the amount of movies produced"
   ]
  },
  {
   "cell_type": "code",
   "execution_count": 48,
   "metadata": {},
   "outputs": [],
   "source": [
    "director['Total_Profit'] = director['Total_Revenue'] - director['Total_Budget']"
   ]
  },
  {
   "cell_type": "markdown",
   "metadata": {},
   "source": [
    "Also adding another field `Avg_Profit` to find out who is the director that drives on average a higher average per movie"
   ]
  },
  {
   "cell_type": "code",
   "execution_count": 49,
   "metadata": {
    "scrolled": true
   },
   "outputs": [],
   "source": [
    "director['Avg_Profit'] = director['Total_Profit'] / director['Movies']"
   ]
  },
  {
   "cell_type": "code",
   "execution_count": 50,
   "metadata": {
    "scrolled": false
   },
   "outputs": [
    {
     "data": {
      "text/html": [
       "<div>\n",
       "<style scoped>\n",
       "    .dataframe tbody tr th:only-of-type {\n",
       "        vertical-align: middle;\n",
       "    }\n",
       "\n",
       "    .dataframe tbody tr th {\n",
       "        vertical-align: top;\n",
       "    }\n",
       "\n",
       "    .dataframe thead th {\n",
       "        text-align: right;\n",
       "    }\n",
       "</style>\n",
       "<table border=\"1\" class=\"dataframe\">\n",
       "  <thead>\n",
       "    <tr style=\"text-align: right;\">\n",
       "      <th></th>\n",
       "      <th>Movies</th>\n",
       "      <th>Total_Budget</th>\n",
       "      <th>Total_Revenue</th>\n",
       "      <th>Vote_Average</th>\n",
       "      <th>Total_Profit</th>\n",
       "      <th>Avg_Profit</th>\n",
       "    </tr>\n",
       "  </thead>\n",
       "  <tbody>\n",
       "    <tr>\n",
       "      <th>count</th>\n",
       "      <td>1714.000000</td>\n",
       "      <td>1.714000e+03</td>\n",
       "      <td>1.714000e+03</td>\n",
       "      <td>1714.000000</td>\n",
       "      <td>1.714000e+03</td>\n",
       "      <td>1.714000e+03</td>\n",
       "    </tr>\n",
       "    <tr>\n",
       "      <th>mean</th>\n",
       "      <td>2.248541</td>\n",
       "      <td>9.947546e+07</td>\n",
       "      <td>3.081956e+08</td>\n",
       "      <td>6.053428</td>\n",
       "      <td>2.087202e+08</td>\n",
       "      <td>6.797352e+07</td>\n",
       "    </tr>\n",
       "    <tr>\n",
       "      <th>std</th>\n",
       "      <td>2.424592</td>\n",
       "      <td>1.801152e+08</td>\n",
       "      <td>7.324405e+08</td>\n",
       "      <td>0.741948</td>\n",
       "      <td>5.837342e+08</td>\n",
       "      <td>1.414781e+08</td>\n",
       "    </tr>\n",
       "    <tr>\n",
       "      <th>min</th>\n",
       "      <td>1.000000</td>\n",
       "      <td>9.693980e-01</td>\n",
       "      <td>5.926763e+00</td>\n",
       "      <td>2.200000</td>\n",
       "      <td>-4.139124e+08</td>\n",
       "      <td>-4.139124e+08</td>\n",
       "    </tr>\n",
       "    <tr>\n",
       "      <th>25%</th>\n",
       "      <td>1.000000</td>\n",
       "      <td>1.174798e+07</td>\n",
       "      <td>1.516723e+07</td>\n",
       "      <td>5.600000</td>\n",
       "      <td>-6.996667e+05</td>\n",
       "      <td>-6.530638e+05</td>\n",
       "    </tr>\n",
       "    <tr>\n",
       "      <th>50%</th>\n",
       "      <td>1.000000</td>\n",
       "      <td>3.396151e+07</td>\n",
       "      <td>6.897598e+07</td>\n",
       "      <td>6.100000</td>\n",
       "      <td>3.131213e+07</td>\n",
       "      <td>2.061588e+07</td>\n",
       "    </tr>\n",
       "    <tr>\n",
       "      <th>75%</th>\n",
       "      <td>3.000000</td>\n",
       "      <td>1.076608e+08</td>\n",
       "      <td>2.950346e+08</td>\n",
       "      <td>6.500000</td>\n",
       "      <td>1.743225e+08</td>\n",
       "      <td>7.760156e+07</td>\n",
       "    </tr>\n",
       "    <tr>\n",
       "      <th>max</th>\n",
       "      <td>27.000000</td>\n",
       "      <td>2.076422e+09</td>\n",
       "      <td>1.520245e+10</td>\n",
       "      <td>8.200000</td>\n",
       "      <td>1.312603e+10</td>\n",
       "      <td>1.551568e+09</td>\n",
       "    </tr>\n",
       "  </tbody>\n",
       "</table>\n",
       "</div>"
      ],
      "text/plain": [
       "            Movies  Total_Budget  Total_Revenue  Vote_Average  Total_Profit  \\\n",
       "count  1714.000000  1.714000e+03   1.714000e+03   1714.000000  1.714000e+03   \n",
       "mean      2.248541  9.947546e+07   3.081956e+08      6.053428  2.087202e+08   \n",
       "std       2.424592  1.801152e+08   7.324405e+08      0.741948  5.837342e+08   \n",
       "min       1.000000  9.693980e-01   5.926763e+00      2.200000 -4.139124e+08   \n",
       "25%       1.000000  1.174798e+07   1.516723e+07      5.600000 -6.996667e+05   \n",
       "50%       1.000000  3.396151e+07   6.897598e+07      6.100000  3.131213e+07   \n",
       "75%       3.000000  1.076608e+08   2.950346e+08      6.500000  1.743225e+08   \n",
       "max      27.000000  2.076422e+09   1.520245e+10      8.200000  1.312603e+10   \n",
       "\n",
       "         Avg_Profit  \n",
       "count  1.714000e+03  \n",
       "mean   6.797352e+07  \n",
       "std    1.414781e+08  \n",
       "min   -4.139124e+08  \n",
       "25%   -6.530638e+05  \n",
       "50%    2.061588e+07  \n",
       "75%    7.760156e+07  \n",
       "max    1.551568e+09  "
      ]
     },
     "execution_count": 50,
     "metadata": {},
     "output_type": "execute_result"
    }
   ],
   "source": [
    "director.describe()"
   ]
  },
  {
   "cell_type": "code",
   "execution_count": 51,
   "metadata": {
    "scrolled": false
   },
   "outputs": [
    {
     "data": {
      "text/plain": [
       "''"
      ]
     },
     "execution_count": 51,
     "metadata": {},
     "output_type": "execute_result"
    },
    {
     "data": {
      "image/png": "[encoded data removed]",
      "text/plain": [
       "<Figure size 432x432 with 1 Axes>"
      ]
     },
     "metadata": {
      "needs_background": "light"
     },
     "output_type": "display_data"
    }
   ],
   "source": [
    "director['Total_Profit'].plot(kind='hist', bins=50, figsize=(6,6))\n",
    "plt.xlabel('Total Profit', fontsize=14)\n",
    "plt.ylabel('Frequency', fontsize=14)\n",
    "plt.title('Frequency of Total profit per director', fontsize=16)\n",
    ";"
   ]
  },
  {
   "cell_type": "markdown",
   "metadata": {},
   "source": [
    "Just to get an impression of the distribution of the total profit by director, when plotting it in a histogram I noticed that the majority of the directors are getting low profits, compared to some outlier directors that are getting much higher values."
   ]
  },
  {
   "cell_type": "code",
   "execution_count": 52,
   "metadata": {
    "scrolled": false
   },
   "outputs": [
    {
     "data": {
      "text/plain": [
       "''"
      ]
     },
     "execution_count": 52,
     "metadata": {},
     "output_type": "execute_result"
    },
    {
     "data": {
      "image/png": "[encoded data removed]",
      "text/plain": [
       "<Figure size 432x432 with 1 Axes>"
      ]
     },
     "metadata": {
      "needs_background": "light"
     },
     "output_type": "display_data"
    }
   ],
   "source": [
    "director['Avg_Profit'].plot(kind='hist', bins=50, figsize=(6,6))\n",
    "plt.xlabel('Average profit per movie (Millions * 100)', fontsize=14)\n",
    "plt.ylabel('Frequency', fontsize=14)\n",
    "plt.title('Frequency of Average profit per director', fontsize=16)\n",
    ";"
   ]
  },
  {
   "cell_type": "markdown",
   "metadata": {},
   "source": [
    "When looking at the average profit per movie for every director, the distribution is a bit more expanded that in the previous histogram, with the majority of directors averaging between 0 and 20 millions profit per movie"
   ]
  },
  {
   "cell_type": "markdown",
   "metadata": {},
   "source": [
    "Before plotting and extract conclusions let's ensure that the directors with a certain amount of movies are considered for this analysis, my goal here is to discard the ones that could have produced a single one very profitable movie but haven't really produce a good amount of movies. Using the describe method I can see that the mean of movies produces is just above 2 (2.24) so I have decided to select only the **directors that produced 4 movies or more**\n",
    "Doing that I make sure to select directors with solid background and long trajectories."
   ]
  },
  {
   "cell_type": "code",
   "execution_count": 53,
   "metadata": {
    "scrolled": false
   },
   "outputs": [],
   "source": [
    "director = director.query(\"Movies > 3\")"
   ]
  },
  {
   "cell_type": "code",
   "execution_count": 54,
   "metadata": {},
   "outputs": [],
   "source": [
    "director.sort_values('Avg_Profit', inplace=True, ascending=False)"
   ]
  },
  {
   "cell_type": "markdown",
   "metadata": {},
   "source": [
    "Finally, since I want to focus on the top directors, I select the TOP 10 directors by `Avg_Profit`"
   ]
  },
  {
   "cell_type": "code",
   "execution_count": 55,
   "metadata": {},
   "outputs": [],
   "source": [
    "director_top10 = director.head(10)"
   ]
  },
  {
   "cell_type": "code",
   "execution_count": 56,
   "metadata": {
    "scrolled": false
   },
   "outputs": [
    {
     "data": {
      "text/plain": [
       "''"
      ]
     },
     "execution_count": 56,
     "metadata": {},
     "output_type": "execute_result"
    },
    {
     "data": {
      "image/png": "[encoded data removed]",
      "text/plain": [
       "<Figure size 432x432 with 1 Axes>"
      ]
     },
     "metadata": {
      "needs_background": "light"
     },
     "output_type": "display_data"
    }
   ],
   "source": [
    "director_top10['Avg_Profit'].plot(kind='barh', figsize=(6,6), width=0.7, alpha=0.8, color='red')\n",
    "plt.gca().invert_yaxis()\n",
    "plt.xlabel('Average profit per movie (Millions * 100)', fontsize=14)\n",
    "plt.ylabel('Director', fontsize=14)\n",
    "plt.title('Directors with higher profits per movie', fontsize=16)\n",
    ";"
   ]
  },
  {
   "cell_type": "markdown",
   "metadata": {},
   "source": [
    "The TOP10 director for average profit per movie earn between 400 and 600 Milion dollars per movie. In the list we can see very well recognized directors, such as **JJ Abrams, James Cameron or Steven Spielberg**. The directors that drives higher averages of profit per movie are **David Yates** (director of several Harry Potter movies) and **George Lucas** (director of the original Star Wars saga)"
   ]
  },
  {
   "cell_type": "markdown",
   "metadata": {},
   "source": [
    "Now that is clear which are the top profitable director of the dataframe, let's check if these directors show any correlation between having profitable movies and having high `vote_average`\n",
    "To do that I will refer to the initial directors dataframe, which is the one that is selecting all directors from the dataframe and not only the most profitable"
   ]
  },
  {
   "cell_type": "markdown",
   "metadata": {},
   "source": [
    "Fist I ensure that I only include directors with positive profit"
   ]
  },
  {
   "cell_type": "code",
   "execution_count": 57,
   "metadata": {},
   "outputs": [],
   "source": [
    "director = director.query(\"Avg_Profit > 0\")"
   ]
  },
  {
   "cell_type": "markdown",
   "metadata": {},
   "source": [
    "I reset the index so it will be easier to plot"
   ]
  },
  {
   "cell_type": "code",
   "execution_count": 58,
   "metadata": {},
   "outputs": [
    {
     "data": {
      "text/html": [
       "<div>\n",
       "<style scoped>\n",
       "    .dataframe tbody tr th:only-of-type {\n",
       "        vertical-align: middle;\n",
       "    }\n",
       "\n",
       "    .dataframe tbody tr th {\n",
       "        vertical-align: top;\n",
       "    }\n",
       "\n",
       "    .dataframe thead th {\n",
       "        text-align: right;\n",
       "    }\n",
       "</style>\n",
       "<table border=\"1\" class=\"dataframe\">\n",
       "  <thead>\n",
       "    <tr style=\"text-align: right;\">\n",
       "      <th></th>\n",
       "      <th>director</th>\n",
       "      <th>Movies</th>\n",
       "      <th>Total_Budget</th>\n",
       "      <th>Total_Revenue</th>\n",
       "      <th>Vote_Average</th>\n",
       "      <th>Total_Profit</th>\n",
       "      <th>Avg_Profit</th>\n",
       "    </tr>\n",
       "  </thead>\n",
       "  <tbody>\n",
       "    <tr>\n",
       "      <th>0</th>\n",
       "      <td>George Lucas</td>\n",
       "      <td>6</td>\n",
       "      <td>4.697600e+08</td>\n",
       "      <td>6.313919e+09</td>\n",
       "      <td>6.700000</td>\n",
       "      <td>5.844159e+09</td>\n",
       "      <td>9.740265e+08</td>\n",
       "    </tr>\n",
       "    <tr>\n",
       "      <th>1</th>\n",
       "      <td>David Yates</td>\n",
       "      <td>4</td>\n",
       "      <td>7.830252e+08</td>\n",
       "      <td>4.177455e+09</td>\n",
       "      <td>7.400000</td>\n",
       "      <td>3.394430e+09</td>\n",
       "      <td>8.486075e+08</td>\n",
       "    </tr>\n",
       "    <tr>\n",
       "      <th>2</th>\n",
       "      <td>James Cameron</td>\n",
       "      <td>8</td>\n",
       "      <td>1.030642e+09</td>\n",
       "      <td>7.327221e+09</td>\n",
       "      <td>7.100000</td>\n",
       "      <td>6.296578e+09</td>\n",
       "      <td>7.870723e+08</td>\n",
       "    </tr>\n",
       "    <tr>\n",
       "      <th>3</th>\n",
       "      <td>Joss Whedon</td>\n",
       "      <td>4</td>\n",
       "      <td>5.102922e+08</td>\n",
       "      <td>2.779224e+09</td>\n",
       "      <td>7.425000</td>\n",
       "      <td>2.268932e+09</td>\n",
       "      <td>5.672330e+08</td>\n",
       "    </tr>\n",
       "    <tr>\n",
       "      <th>4</th>\n",
       "      <td>Carlos Saldanha</td>\n",
       "      <td>4</td>\n",
       "      <td>3.601278e+08</td>\n",
       "      <td>2.546672e+09</td>\n",
       "      <td>6.450000</td>\n",
       "      <td>2.186544e+09</td>\n",
       "      <td>5.466361e+08</td>\n",
       "    </tr>\n",
       "    <tr>\n",
       "      <th>...</th>\n",
       "      <td>...</td>\n",
       "      <td>...</td>\n",
       "      <td>...</td>\n",
       "      <td>...</td>\n",
       "      <td>...</td>\n",
       "      <td>...</td>\n",
       "      <td>...</td>\n",
       "    </tr>\n",
       "    <tr>\n",
       "      <th>276</th>\n",
       "      <td>Neil LaBute</td>\n",
       "      <td>4</td>\n",
       "      <td>1.148290e+08</td>\n",
       "      <td>1.312250e+08</td>\n",
       "      <td>5.525000</td>\n",
       "      <td>1.639596e+07</td>\n",
       "      <td>4.098990e+06</td>\n",
       "    </tr>\n",
       "    <tr>\n",
       "      <th>277</th>\n",
       "      <td>Paul McGuigan</td>\n",
       "      <td>4</td>\n",
       "      <td>1.392616e+08</td>\n",
       "      <td>1.536169e+08</td>\n",
       "      <td>6.300000</td>\n",
       "      <td>1.435524e+07</td>\n",
       "      <td>3.588810e+06</td>\n",
       "    </tr>\n",
       "    <tr>\n",
       "      <th>278</th>\n",
       "      <td>Brian Robbins</td>\n",
       "      <td>6</td>\n",
       "      <td>2.857392e+08</td>\n",
       "      <td>3.041559e+08</td>\n",
       "      <td>5.266667</td>\n",
       "      <td>1.841676e+07</td>\n",
       "      <td>3.069460e+06</td>\n",
       "    </tr>\n",
       "    <tr>\n",
       "      <th>279</th>\n",
       "      <td>John Stockwell</td>\n",
       "      <td>4</td>\n",
       "      <td>1.258877e+08</td>\n",
       "      <td>1.337193e+08</td>\n",
       "      <td>5.750000</td>\n",
       "      <td>7.831653e+06</td>\n",
       "      <td>1.957913e+06</td>\n",
       "    </tr>\n",
       "    <tr>\n",
       "      <th>280</th>\n",
       "      <td>John Waters</td>\n",
       "      <td>4</td>\n",
       "      <td>5.486159e+07</td>\n",
       "      <td>5.879796e+07</td>\n",
       "      <td>6.000000</td>\n",
       "      <td>3.936368e+06</td>\n",
       "      <td>9.840920e+05</td>\n",
       "    </tr>\n",
       "  </tbody>\n",
       "</table>\n",
       "<p>281 rows × 7 columns</p>\n",
       "</div>"
      ],
      "text/plain": [
       "            director  Movies  Total_Budget  Total_Revenue  Vote_Average  \\\n",
       "0       George Lucas       6  4.697600e+08   6.313919e+09      6.700000   \n",
       "1        David Yates       4  7.830252e+08   4.177455e+09      7.400000   \n",
       "2      James Cameron       8  1.030642e+09   7.327221e+09      7.100000   \n",
       "3        Joss Whedon       4  5.102922e+08   2.779224e+09      7.425000   \n",
       "4    Carlos Saldanha       4  3.601278e+08   2.546672e+09      6.450000   \n",
       "..               ...     ...           ...            ...           ...   \n",
       "276      Neil LaBute       4  1.148290e+08   1.312250e+08      5.525000   \n",
       "277    Paul McGuigan       4  1.392616e+08   1.536169e+08      6.300000   \n",
       "278    Brian Robbins       6  2.857392e+08   3.041559e+08      5.266667   \n",
       "279   John Stockwell       4  1.258877e+08   1.337193e+08      5.750000   \n",
       "280      John Waters       4  5.486159e+07   5.879796e+07      6.000000   \n",
       "\n",
       "     Total_Profit    Avg_Profit  \n",
       "0    5.844159e+09  9.740265e+08  \n",
       "1    3.394430e+09  8.486075e+08  \n",
       "2    6.296578e+09  7.870723e+08  \n",
       "3    2.268932e+09  5.672330e+08  \n",
       "4    2.186544e+09  5.466361e+08  \n",
       "..            ...           ...  \n",
       "276  1.639596e+07  4.098990e+06  \n",
       "277  1.435524e+07  3.588810e+06  \n",
       "278  1.841676e+07  3.069460e+06  \n",
       "279  7.831653e+06  1.957913e+06  \n",
       "280  3.936368e+06  9.840920e+05  \n",
       "\n",
       "[281 rows x 7 columns]"
      ]
     },
     "execution_count": 58,
     "metadata": {},
     "output_type": "execute_result"
    }
   ],
   "source": [
    "director.reset_index()"
   ]
  },
  {
   "cell_type": "markdown",
   "metadata": {},
   "source": [
    "I proceed to plot the correlation of `Avg_Profit` and `Vote_Average` using seaborn scatter plot. This type of plot not only shows the correlation between the two variables, but also shows us the density of occurrences in a given coordinate. So the  parts of the charts with a darker blue means that more occurrences happen in that particular coordinate. Found this information [here](https://towardsdatascience.com/seaborn-0-11-just-released-with-great-new-features-c5b45efad7e2)"
   ]
  },
  {
   "cell_type": "code",
   "execution_count": 59,
   "metadata": {},
   "outputs": [
    {
     "data": {
      "text/plain": [
       "''"
      ]
     },
     "execution_count": 59,
     "metadata": {},
     "output_type": "execute_result"
    },
    {
     "data": {
      "image/png": "[encoded data removed]",
      "text/plain": [
       "<Figure size 518.4x432 with 1 Axes>"
      ]
     },
     "metadata": {
      "needs_background": "light"
     },
     "output_type": "display_data"
    }
   ],
   "source": [
    "sns.displot(data=director, x='Vote_Average', y='Avg_Profit',kind='hist', height=6, aspect=1.2)\n",
    "plt.xlabel('Vote Average', fontsize=14)\n",
    "plt.ylabel('Average profit per movie (Millions * 100)', fontsize=14)\n",
    "plt.title('Directors - Correlation between vote average and average profit', fontsize=16)\n",
    "plt.xlim(4,8)\n",
    ";"
   ]
  },
  {
   "cell_type": "markdown",
   "metadata": {},
   "source": [
    "The correlation between these variables is very clear, our most profitable directors are located amongst the ones with higher vote_averages, all of them have a higher vote_average than the mean for all directors (6.05)"
   ]
  },
  {
   "cell_type": "markdown",
   "metadata": {},
   "source": [
    "<a id='eda3'></a>\n",
    "### Research Question 3\n",
    "**1. Which are the movies that are most profitable? Is there a genre specially profitable?**"
   ]
  },
  {
   "cell_type": "markdown",
   "metadata": {},
   "source": [
    "In this particular question,when I talk about profitable I refer to a movie getting a return in profit that is **x amount of times higher than its budget**. In this case I am not looking at highest total revenue but at the difference between total profit and initial budget.\n",
    "\n",
    "To get the correct `Times Profit over Budget` column we first need to get id of the movies that have wrong budgets associated.\n",
    "After running some analysis on the `budget` column I realised that there are some movies with obvious wrong budget records, most of them inferior to 100 dollars which can't be true, so I decided to set the minimum to `budget > 10000` otherwise these will get inf amount of `Times Profit over Budget`.\n",
    "I am also including the genres of the movies to check there is a common genre among the most profitable.\n",
    "I will call these movies, `outlier_movies`"
   ]
  },
  {
   "cell_type": "code",
   "execution_count": 60,
   "metadata": {},
   "outputs": [],
   "source": [
    "movies_outliers = movies[['original_title','director','budget_adj','revenue_adj','genre1','genre2','genre3','genre4','genre5']]\n",
    "movies_outliers.set_index('original_title', inplace=True)\n",
    "movies_outliers = movies_outliers[movies_outliers['budget_adj'] > 10000]"
   ]
  },
  {
   "cell_type": "markdown",
   "metadata": {},
   "source": [
    "Setting the index to the movie title and create the two new fields I need to perform this analysis:\n",
    "- Profit (`Revenue - Budget`)\n",
    "- Times Profit ove Budget (`Profit / Budget`)"
   ]
  },
  {
   "cell_type": "code",
   "execution_count": 61,
   "metadata": {
    "scrolled": false
   },
   "outputs": [],
   "source": [
    "movies_outliers['profit'] = movies_outliers['revenue_adj'] - movies_outliers['budget_adj']"
   ]
  },
  {
   "cell_type": "code",
   "execution_count": 62,
   "metadata": {},
   "outputs": [],
   "source": [
    "movies_outliers['Times Profit over Budget'] = movies_outliers['profit'] / movies_outliers['budget_adj']"
   ]
  },
  {
   "cell_type": "markdown",
   "metadata": {},
   "source": [
    "Just to get an overall perspective of our outlier movies I will use as a reference the mean of `Times Profit over Budget` across all of our dataset"
   ]
  },
  {
   "cell_type": "code",
   "execution_count": 63,
   "metadata": {
    "scrolled": true
   },
   "outputs": [
    {
     "data": {
      "text/plain": [
       "count     3829.000000\n",
       "mean        10.156476\n",
       "std        263.633916\n",
       "min         -1.000000\n",
       "25%         -0.127814\n",
       "50%          1.116839\n",
       "75%          3.201912\n",
       "max      12889.386667\n",
       "Name: Times Profit over Budget, dtype: float64"
      ]
     },
     "execution_count": 63,
     "metadata": {},
     "output_type": "execute_result"
    }
   ],
   "source": [
    "movies_outliers['Times Profit over Budget'].describe()"
   ]
  },
  {
   "cell_type": "markdown",
   "metadata": {},
   "source": [
    "The mean of `Times profit over Budget` is 10, so a movie returns a profit, in average 10 times its budget\n",
    "Just looking at the main metrics that we extract from the describe method we can see that the data is extremely spread (we have a std of 263)"
   ]
  },
  {
   "cell_type": "markdown",
   "metadata": {},
   "source": [
    "Just to visually see how extremely spread the data is I created a histogram "
   ]
  },
  {
   "cell_type": "code",
   "execution_count": 64,
   "metadata": {
    "scrolled": false
   },
   "outputs": [
    {
     "data": {
      "text/plain": [
       "''"
      ]
     },
     "execution_count": 64,
     "metadata": {},
     "output_type": "execute_result"
    },
    {
     "data": {
      "image/png": "[encoded data removed]",
      "text/plain": [
       "<Figure size 432x432 with 1 Axes>"
      ]
     },
     "metadata": {
      "needs_background": "light"
     },
     "output_type": "display_data"
    }
   ],
   "source": [
    "movies_outliers['Times Profit over Budget'].plot(kind='hist', bins=100, figsize=(6,6))\n",
    "plt.xlabel('Times Profit over Budget', fontsize=14)\n",
    "plt.ylabel('Frequency', fontsize=14)\n",
    "plt.title('Times Profit over Budget', fontsize=16)\n",
    ";"
   ]
  },
  {
   "cell_type": "markdown",
   "metadata": {},
   "source": [
    "Almost the entire dataset is concentrated in the first bin, with some very scattered point of data spread across the distribution"
   ]
  },
  {
   "cell_type": "markdown",
   "metadata": {},
   "source": [
    "I proceed then to sort our dataset by `Times Profit over Budget` and return the top 10 values"
   ]
  },
  {
   "cell_type": "code",
   "execution_count": 65,
   "metadata": {},
   "outputs": [],
   "source": [
    "movies_outliers_top10 = movies_outliers.sort_values('Times Profit over Budget', ascending=False).head(10)"
   ]
  },
  {
   "cell_type": "markdown",
   "metadata": {},
   "source": [
    "Finally, I create a series with the results together with an horizontal bar chart. It is easy to spot the enormous differences between the mean value of the whole dataset and the most extreme values"
   ]
  },
  {
   "cell_type": "code",
   "execution_count": 66,
   "metadata": {
    "scrolled": false
   },
   "outputs": [
    {
     "data": {
      "text/plain": [
       "original_title\n",
       "Paranormal Activity             12889.386667\n",
       "The Blair Witch Project          9919.000000\n",
       "Eraserhead                        699.000000\n",
       "Pink Flamingos                    499.000000\n",
       "Super Size Me                     438.616585\n",
       "The Gallows                       425.644100\n",
       "Open Water                        419.522723\n",
       "The Texas Chain Saw Massacre      362.047059\n",
       "Mad Max                           249.000000\n",
       "Halloween                         232.333333\n",
       "Name: Times Profit over Budget, dtype: float64"
      ]
     },
     "execution_count": 66,
     "metadata": {},
     "output_type": "execute_result"
    }
   ],
   "source": [
    "movies_outliers_top10['Times Profit over Budget']"
   ]
  },
  {
   "cell_type": "code",
   "execution_count": 67,
   "metadata": {},
   "outputs": [
    {
     "data": {
      "text/plain": [
       "''"
      ]
     },
     "execution_count": 67,
     "metadata": {},
     "output_type": "execute_result"
    },
    {
     "data": {
      "image/png": "[encoded data removed]",
      "text/plain": [
       "<Figure size 432x432 with 1 Axes>"
      ]
     },
     "metadata": {
      "needs_background": "light"
     },
     "output_type": "display_data"
    }
   ],
   "source": [
    "movies_outliers_top10['Times Profit over Budget'].plot(kind='barh', figsize=(6,6), width=0.7, alpha=0.8, color='green')\n",
    "plt.gca().invert_yaxis()\n",
    "plt.xlabel('Times Profit over Budget', fontsize=14)\n",
    "plt.ylabel('Movie title', fontsize=14)\n",
    "plt.title('Movies with higher return of Profit over Budget', fontsize=16)\n",
    ";"
   ]
  },
  {
   "cell_type": "markdown",
   "metadata": {},
   "source": [
    "Horror movies seem to be the ones that using smaller budgets are able to get higher times profit over budgert. 6 out of the 10 top movies are Horror genre.\n",
    "Standing out is Paranormal Activity and The Blair Witch Project that got a profit more than 10k times its budget. The rest of the other movies are located around the 200 and 400.\n",
    "Let's recreate the dataframe with some formatting just to highlight the Horror genre prevalence:"
   ]
  },
  {
   "cell_type": "code",
   "execution_count": 68,
   "metadata": {
    "scrolled": false
   },
   "outputs": [
    {
     "data": {
      "text/html": [
       "<style  type=\"text/css\" >\n",
       "    #T_56f1e0d0_79e1_11eb_af06_4074e09d04f8row0_col0 {\n",
       "            color:  black;\n",
       "        }    #T_56f1e0d0_79e1_11eb_af06_4074e09d04f8row0_col1 {\n",
       "            color:  black;\n",
       "        }    #T_56f1e0d0_79e1_11eb_af06_4074e09d04f8row0_col2 {\n",
       "            color:  black;\n",
       "        }    #T_56f1e0d0_79e1_11eb_af06_4074e09d04f8row0_col3 {\n",
       "            color:  red;\n",
       "        }    #T_56f1e0d0_79e1_11eb_af06_4074e09d04f8row0_col4 {\n",
       "            color:  black;\n",
       "        }    #T_56f1e0d0_79e1_11eb_af06_4074e09d04f8row0_col5 {\n",
       "            color:  black;\n",
       "        }    #T_56f1e0d0_79e1_11eb_af06_4074e09d04f8row0_col6 {\n",
       "            color:  black;\n",
       "        }    #T_56f1e0d0_79e1_11eb_af06_4074e09d04f8row0_col7 {\n",
       "            color:  black;\n",
       "        }    #T_56f1e0d0_79e1_11eb_af06_4074e09d04f8row0_col8 {\n",
       "            color:  black;\n",
       "        }    #T_56f1e0d0_79e1_11eb_af06_4074e09d04f8row0_col9 {\n",
       "            color:  black;\n",
       "        }    #T_56f1e0d0_79e1_11eb_af06_4074e09d04f8row1_col0 {\n",
       "            color:  black;\n",
       "        }    #T_56f1e0d0_79e1_11eb_af06_4074e09d04f8row1_col1 {\n",
       "            color:  black;\n",
       "        }    #T_56f1e0d0_79e1_11eb_af06_4074e09d04f8row1_col2 {\n",
       "            color:  black;\n",
       "        }    #T_56f1e0d0_79e1_11eb_af06_4074e09d04f8row1_col3 {\n",
       "            color:  red;\n",
       "        }    #T_56f1e0d0_79e1_11eb_af06_4074e09d04f8row1_col4 {\n",
       "            color:  black;\n",
       "        }    #T_56f1e0d0_79e1_11eb_af06_4074e09d04f8row1_col5 {\n",
       "            color:  black;\n",
       "        }    #T_56f1e0d0_79e1_11eb_af06_4074e09d04f8row1_col6 {\n",
       "            color:  black;\n",
       "        }    #T_56f1e0d0_79e1_11eb_af06_4074e09d04f8row1_col7 {\n",
       "            color:  black;\n",
       "        }    #T_56f1e0d0_79e1_11eb_af06_4074e09d04f8row1_col8 {\n",
       "            color:  black;\n",
       "        }    #T_56f1e0d0_79e1_11eb_af06_4074e09d04f8row1_col9 {\n",
       "            color:  black;\n",
       "        }    #T_56f1e0d0_79e1_11eb_af06_4074e09d04f8row2_col0 {\n",
       "            color:  black;\n",
       "        }    #T_56f1e0d0_79e1_11eb_af06_4074e09d04f8row2_col1 {\n",
       "            color:  black;\n",
       "        }    #T_56f1e0d0_79e1_11eb_af06_4074e09d04f8row2_col2 {\n",
       "            color:  black;\n",
       "        }    #T_56f1e0d0_79e1_11eb_af06_4074e09d04f8row2_col3 {\n",
       "            color:  black;\n",
       "        }    #T_56f1e0d0_79e1_11eb_af06_4074e09d04f8row2_col4 {\n",
       "            color:  black;\n",
       "        }    #T_56f1e0d0_79e1_11eb_af06_4074e09d04f8row2_col5 {\n",
       "            color:  red;\n",
       "        }    #T_56f1e0d0_79e1_11eb_af06_4074e09d04f8row2_col6 {\n",
       "            color:  black;\n",
       "        }    #T_56f1e0d0_79e1_11eb_af06_4074e09d04f8row2_col7 {\n",
       "            color:  black;\n",
       "        }    #T_56f1e0d0_79e1_11eb_af06_4074e09d04f8row2_col8 {\n",
       "            color:  black;\n",
       "        }    #T_56f1e0d0_79e1_11eb_af06_4074e09d04f8row2_col9 {\n",
       "            color:  black;\n",
       "        }    #T_56f1e0d0_79e1_11eb_af06_4074e09d04f8row3_col0 {\n",
       "            color:  black;\n",
       "        }    #T_56f1e0d0_79e1_11eb_af06_4074e09d04f8row3_col1 {\n",
       "            color:  black;\n",
       "        }    #T_56f1e0d0_79e1_11eb_af06_4074e09d04f8row3_col2 {\n",
       "            color:  black;\n",
       "        }    #T_56f1e0d0_79e1_11eb_af06_4074e09d04f8row3_col3 {\n",
       "            color:  black;\n",
       "        }    #T_56f1e0d0_79e1_11eb_af06_4074e09d04f8row3_col4 {\n",
       "            color:  black;\n",
       "        }    #T_56f1e0d0_79e1_11eb_af06_4074e09d04f8row3_col5 {\n",
       "            color:  black;\n",
       "        }    #T_56f1e0d0_79e1_11eb_af06_4074e09d04f8row3_col6 {\n",
       "            color:  black;\n",
       "        }    #T_56f1e0d0_79e1_11eb_af06_4074e09d04f8row3_col7 {\n",
       "            color:  black;\n",
       "        }    #T_56f1e0d0_79e1_11eb_af06_4074e09d04f8row3_col8 {\n",
       "            color:  black;\n",
       "        }    #T_56f1e0d0_79e1_11eb_af06_4074e09d04f8row3_col9 {\n",
       "            color:  black;\n",
       "        }    #T_56f1e0d0_79e1_11eb_af06_4074e09d04f8row4_col0 {\n",
       "            color:  black;\n",
       "        }    #T_56f1e0d0_79e1_11eb_af06_4074e09d04f8row4_col1 {\n",
       "            color:  black;\n",
       "        }    #T_56f1e0d0_79e1_11eb_af06_4074e09d04f8row4_col2 {\n",
       "            color:  black;\n",
       "        }    #T_56f1e0d0_79e1_11eb_af06_4074e09d04f8row4_col3 {\n",
       "            color:  black;\n",
       "        }    #T_56f1e0d0_79e1_11eb_af06_4074e09d04f8row4_col4 {\n",
       "            color:  black;\n",
       "        }    #T_56f1e0d0_79e1_11eb_af06_4074e09d04f8row4_col5 {\n",
       "            color:  black;\n",
       "        }    #T_56f1e0d0_79e1_11eb_af06_4074e09d04f8row4_col6 {\n",
       "            color:  black;\n",
       "        }    #T_56f1e0d0_79e1_11eb_af06_4074e09d04f8row4_col7 {\n",
       "            color:  black;\n",
       "        }    #T_56f1e0d0_79e1_11eb_af06_4074e09d04f8row4_col8 {\n",
       "            color:  black;\n",
       "        }    #T_56f1e0d0_79e1_11eb_af06_4074e09d04f8row4_col9 {\n",
       "            color:  black;\n",
       "        }    #T_56f1e0d0_79e1_11eb_af06_4074e09d04f8row5_col0 {\n",
       "            color:  black;\n",
       "        }    #T_56f1e0d0_79e1_11eb_af06_4074e09d04f8row5_col1 {\n",
       "            color:  black;\n",
       "        }    #T_56f1e0d0_79e1_11eb_af06_4074e09d04f8row5_col2 {\n",
       "            color:  black;\n",
       "        }    #T_56f1e0d0_79e1_11eb_af06_4074e09d04f8row5_col3 {\n",
       "            color:  red;\n",
       "        }    #T_56f1e0d0_79e1_11eb_af06_4074e09d04f8row5_col4 {\n",
       "            color:  black;\n",
       "        }    #T_56f1e0d0_79e1_11eb_af06_4074e09d04f8row5_col5 {\n",
       "            color:  black;\n",
       "        }    #T_56f1e0d0_79e1_11eb_af06_4074e09d04f8row5_col6 {\n",
       "            color:  black;\n",
       "        }    #T_56f1e0d0_79e1_11eb_af06_4074e09d04f8row5_col7 {\n",
       "            color:  black;\n",
       "        }    #T_56f1e0d0_79e1_11eb_af06_4074e09d04f8row5_col8 {\n",
       "            color:  black;\n",
       "        }    #T_56f1e0d0_79e1_11eb_af06_4074e09d04f8row5_col9 {\n",
       "            color:  black;\n",
       "        }    #T_56f1e0d0_79e1_11eb_af06_4074e09d04f8row6_col0 {\n",
       "            color:  black;\n",
       "        }    #T_56f1e0d0_79e1_11eb_af06_4074e09d04f8row6_col1 {\n",
       "            color:  black;\n",
       "        }    #T_56f1e0d0_79e1_11eb_af06_4074e09d04f8row6_col2 {\n",
       "            color:  black;\n",
       "        }    #T_56f1e0d0_79e1_11eb_af06_4074e09d04f8row6_col3 {\n",
       "            color:  black;\n",
       "        }    #T_56f1e0d0_79e1_11eb_af06_4074e09d04f8row6_col4 {\n",
       "            color:  black;\n",
       "        }    #T_56f1e0d0_79e1_11eb_af06_4074e09d04f8row6_col5 {\n",
       "            color:  black;\n",
       "        }    #T_56f1e0d0_79e1_11eb_af06_4074e09d04f8row6_col6 {\n",
       "            color:  black;\n",
       "        }    #T_56f1e0d0_79e1_11eb_af06_4074e09d04f8row6_col7 {\n",
       "            color:  black;\n",
       "        }    #T_56f1e0d0_79e1_11eb_af06_4074e09d04f8row6_col8 {\n",
       "            color:  black;\n",
       "        }    #T_56f1e0d0_79e1_11eb_af06_4074e09d04f8row6_col9 {\n",
       "            color:  black;\n",
       "        }    #T_56f1e0d0_79e1_11eb_af06_4074e09d04f8row7_col0 {\n",
       "            color:  black;\n",
       "        }    #T_56f1e0d0_79e1_11eb_af06_4074e09d04f8row7_col1 {\n",
       "            color:  black;\n",
       "        }    #T_56f1e0d0_79e1_11eb_af06_4074e09d04f8row7_col2 {\n",
       "            color:  black;\n",
       "        }    #T_56f1e0d0_79e1_11eb_af06_4074e09d04f8row7_col3 {\n",
       "            color:  red;\n",
       "        }    #T_56f1e0d0_79e1_11eb_af06_4074e09d04f8row7_col4 {\n",
       "            color:  black;\n",
       "        }    #T_56f1e0d0_79e1_11eb_af06_4074e09d04f8row7_col5 {\n",
       "            color:  black;\n",
       "        }    #T_56f1e0d0_79e1_11eb_af06_4074e09d04f8row7_col6 {\n",
       "            color:  black;\n",
       "        }    #T_56f1e0d0_79e1_11eb_af06_4074e09d04f8row7_col7 {\n",
       "            color:  black;\n",
       "        }    #T_56f1e0d0_79e1_11eb_af06_4074e09d04f8row7_col8 {\n",
       "            color:  black;\n",
       "        }    #T_56f1e0d0_79e1_11eb_af06_4074e09d04f8row7_col9 {\n",
       "            color:  black;\n",
       "        }    #T_56f1e0d0_79e1_11eb_af06_4074e09d04f8row8_col0 {\n",
       "            color:  black;\n",
       "        }    #T_56f1e0d0_79e1_11eb_af06_4074e09d04f8row8_col1 {\n",
       "            color:  black;\n",
       "        }    #T_56f1e0d0_79e1_11eb_af06_4074e09d04f8row8_col2 {\n",
       "            color:  black;\n",
       "        }    #T_56f1e0d0_79e1_11eb_af06_4074e09d04f8row8_col3 {\n",
       "            color:  black;\n",
       "        }    #T_56f1e0d0_79e1_11eb_af06_4074e09d04f8row8_col4 {\n",
       "            color:  black;\n",
       "        }    #T_56f1e0d0_79e1_11eb_af06_4074e09d04f8row8_col5 {\n",
       "            color:  black;\n",
       "        }    #T_56f1e0d0_79e1_11eb_af06_4074e09d04f8row8_col6 {\n",
       "            color:  black;\n",
       "        }    #T_56f1e0d0_79e1_11eb_af06_4074e09d04f8row8_col7 {\n",
       "            color:  black;\n",
       "        }    #T_56f1e0d0_79e1_11eb_af06_4074e09d04f8row8_col8 {\n",
       "            color:  black;\n",
       "        }    #T_56f1e0d0_79e1_11eb_af06_4074e09d04f8row8_col9 {\n",
       "            color:  black;\n",
       "        }    #T_56f1e0d0_79e1_11eb_af06_4074e09d04f8row9_col0 {\n",
       "            color:  black;\n",
       "        }    #T_56f1e0d0_79e1_11eb_af06_4074e09d04f8row9_col1 {\n",
       "            color:  black;\n",
       "        }    #T_56f1e0d0_79e1_11eb_af06_4074e09d04f8row9_col2 {\n",
       "            color:  black;\n",
       "        }    #T_56f1e0d0_79e1_11eb_af06_4074e09d04f8row9_col3 {\n",
       "            color:  red;\n",
       "        }    #T_56f1e0d0_79e1_11eb_af06_4074e09d04f8row9_col4 {\n",
       "            color:  black;\n",
       "        }    #T_56f1e0d0_79e1_11eb_af06_4074e09d04f8row9_col5 {\n",
       "            color:  black;\n",
       "        }    #T_56f1e0d0_79e1_11eb_af06_4074e09d04f8row9_col6 {\n",
       "            color:  black;\n",
       "        }    #T_56f1e0d0_79e1_11eb_af06_4074e09d04f8row9_col7 {\n",
       "            color:  black;\n",
       "        }    #T_56f1e0d0_79e1_11eb_af06_4074e09d04f8row9_col8 {\n",
       "            color:  black;\n",
       "        }    #T_56f1e0d0_79e1_11eb_af06_4074e09d04f8row9_col9 {\n",
       "            color:  black;\n",
       "        }</style><table id=\"T_56f1e0d0_79e1_11eb_af06_4074e09d04f8\" ><thead>    <tr>        <th class=\"blank level0\" ></th>        <th class=\"col_heading level0 col0\" >director</th>        <th class=\"col_heading level0 col1\" >budget_adj</th>        <th class=\"col_heading level0 col2\" >revenue_adj</th>        <th class=\"col_heading level0 col3\" >genre1</th>        <th class=\"col_heading level0 col4\" >genre2</th>        <th class=\"col_heading level0 col5\" >genre3</th>        <th class=\"col_heading level0 col6\" >genre4</th>        <th class=\"col_heading level0 col7\" >genre5</th>        <th class=\"col_heading level0 col8\" >profit</th>        <th class=\"col_heading level0 col9\" >Times Profit over Budget</th>    </tr>    <tr>        <th class=\"index_name level0\" >original_title</th>        <th class=\"blank\" ></th>        <th class=\"blank\" ></th>        <th class=\"blank\" ></th>        <th class=\"blank\" ></th>        <th class=\"blank\" ></th>        <th class=\"blank\" ></th>        <th class=\"blank\" ></th>        <th class=\"blank\" ></th>        <th class=\"blank\" ></th>        <th class=\"blank\" ></th>    </tr></thead><tbody>\n",
       "                <tr>\n",
       "                        <th id=\"T_56f1e0d0_79e1_11eb_af06_4074e09d04f8level0_row0\" class=\"row_heading level0 row0\" >Paranormal Activity</th>\n",
       "                        <td id=\"T_56f1e0d0_79e1_11eb_af06_4074e09d04f8row0_col0\" class=\"data row0 col0\" >Oren Peli</td>\n",
       "                        <td id=\"T_56f1e0d0_79e1_11eb_af06_4074e09d04f8row0_col1\" class=\"data row0 col1\" >15775.028739</td>\n",
       "                        <td id=\"T_56f1e0d0_79e1_11eb_af06_4074e09d04f8row0_col2\" class=\"data row0 col2\" >203346220.129588</td>\n",
       "                        <td id=\"T_56f1e0d0_79e1_11eb_af06_4074e09d04f8row0_col3\" class=\"data row0 col3\" >Horror</td>\n",
       "                        <td id=\"T_56f1e0d0_79e1_11eb_af06_4074e09d04f8row0_col4\" class=\"data row0 col4\" >Mystery</td>\n",
       "                        <td id=\"T_56f1e0d0_79e1_11eb_af06_4074e09d04f8row0_col5\" class=\"data row0 col5\" >None</td>\n",
       "                        <td id=\"T_56f1e0d0_79e1_11eb_af06_4074e09d04f8row0_col6\" class=\"data row0 col6\" >None</td>\n",
       "                        <td id=\"T_56f1e0d0_79e1_11eb_af06_4074e09d04f8row0_col7\" class=\"data row0 col7\" >None</td>\n",
       "                        <td id=\"T_56f1e0d0_79e1_11eb_af06_4074e09d04f8row0_col8\" class=\"data row0 col8\" >203330445.100848</td>\n",
       "                        <td id=\"T_56f1e0d0_79e1_11eb_af06_4074e09d04f8row0_col9\" class=\"data row0 col9\" >12889.386667</td>\n",
       "            </tr>\n",
       "            <tr>\n",
       "                        <th id=\"T_56f1e0d0_79e1_11eb_af06_4074e09d04f8level0_row1\" class=\"row_heading level0 row1\" >The Blair Witch Project</th>\n",
       "                        <td id=\"T_56f1e0d0_79e1_11eb_af06_4074e09d04f8row1_col0\" class=\"data row1 col0\" >Daniel Myrick|Eduardo SÃ¡nchez</td>\n",
       "                        <td id=\"T_56f1e0d0_79e1_11eb_af06_4074e09d04f8row1_col1\" class=\"data row1 col1\" >32726.321165</td>\n",
       "                        <td id=\"T_56f1e0d0_79e1_11eb_af06_4074e09d04f8row1_col2\" class=\"data row1 col2\" >324645105.955391</td>\n",
       "                        <td id=\"T_56f1e0d0_79e1_11eb_af06_4074e09d04f8row1_col3\" class=\"data row1 col3\" >Horror</td>\n",
       "                        <td id=\"T_56f1e0d0_79e1_11eb_af06_4074e09d04f8row1_col4\" class=\"data row1 col4\" >Mystery</td>\n",
       "                        <td id=\"T_56f1e0d0_79e1_11eb_af06_4074e09d04f8row1_col5\" class=\"data row1 col5\" >None</td>\n",
       "                        <td id=\"T_56f1e0d0_79e1_11eb_af06_4074e09d04f8row1_col6\" class=\"data row1 col6\" >None</td>\n",
       "                        <td id=\"T_56f1e0d0_79e1_11eb_af06_4074e09d04f8row1_col7\" class=\"data row1 col7\" >None</td>\n",
       "                        <td id=\"T_56f1e0d0_79e1_11eb_af06_4074e09d04f8row1_col8\" class=\"data row1 col8\" >324612379.634226</td>\n",
       "                        <td id=\"T_56f1e0d0_79e1_11eb_af06_4074e09d04f8row1_col9\" class=\"data row1 col9\" >9919.000000</td>\n",
       "            </tr>\n",
       "            <tr>\n",
       "                        <th id=\"T_56f1e0d0_79e1_11eb_af06_4074e09d04f8level0_row2\" class=\"row_heading level0 row2\" >Eraserhead</th>\n",
       "                        <td id=\"T_56f1e0d0_79e1_11eb_af06_4074e09d04f8row2_col0\" class=\"data row2 col0\" >David Lynch</td>\n",
       "                        <td id=\"T_56f1e0d0_79e1_11eb_af06_4074e09d04f8row2_col1\" class=\"data row2 col1\" >35977.810326</td>\n",
       "                        <td id=\"T_56f1e0d0_79e1_11eb_af06_4074e09d04f8row2_col2\" class=\"data row2 col2\" >25184467.227992</td>\n",
       "                        <td id=\"T_56f1e0d0_79e1_11eb_af06_4074e09d04f8row2_col3\" class=\"data row2 col3\" >Science Fiction</td>\n",
       "                        <td id=\"T_56f1e0d0_79e1_11eb_af06_4074e09d04f8row2_col4\" class=\"data row2 col4\" >Fantasy</td>\n",
       "                        <td id=\"T_56f1e0d0_79e1_11eb_af06_4074e09d04f8row2_col5\" class=\"data row2 col5\" >Horror</td>\n",
       "                        <td id=\"T_56f1e0d0_79e1_11eb_af06_4074e09d04f8row2_col6\" class=\"data row2 col6\" >Drama</td>\n",
       "                        <td id=\"T_56f1e0d0_79e1_11eb_af06_4074e09d04f8row2_col7\" class=\"data row2 col7\" >None</td>\n",
       "                        <td id=\"T_56f1e0d0_79e1_11eb_af06_4074e09d04f8row2_col8\" class=\"data row2 col8\" >25148489.417667</td>\n",
       "                        <td id=\"T_56f1e0d0_79e1_11eb_af06_4074e09d04f8row2_col9\" class=\"data row2 col9\" >699.000000</td>\n",
       "            </tr>\n",
       "            <tr>\n",
       "                        <th id=\"T_56f1e0d0_79e1_11eb_af06_4074e09d04f8level0_row3\" class=\"row_heading level0 row3\" >Pink Flamingos</th>\n",
       "                        <td id=\"T_56f1e0d0_79e1_11eb_af06_4074e09d04f8row3_col0\" class=\"data row3 col0\" >John Waters</td>\n",
       "                        <td id=\"T_56f1e0d0_79e1_11eb_af06_4074e09d04f8row3_col1\" class=\"data row3 col1\" >62574.731176</td>\n",
       "                        <td id=\"T_56f1e0d0_79e1_11eb_af06_4074e09d04f8row3_col2\" class=\"data row3 col2\" >31287365.588174</td>\n",
       "                        <td id=\"T_56f1e0d0_79e1_11eb_af06_4074e09d04f8row3_col3\" class=\"data row3 col3\" >Comedy</td>\n",
       "                        <td id=\"T_56f1e0d0_79e1_11eb_af06_4074e09d04f8row3_col4\" class=\"data row3 col4\" >None</td>\n",
       "                        <td id=\"T_56f1e0d0_79e1_11eb_af06_4074e09d04f8row3_col5\" class=\"data row3 col5\" >None</td>\n",
       "                        <td id=\"T_56f1e0d0_79e1_11eb_af06_4074e09d04f8row3_col6\" class=\"data row3 col6\" >None</td>\n",
       "                        <td id=\"T_56f1e0d0_79e1_11eb_af06_4074e09d04f8row3_col7\" class=\"data row3 col7\" >None</td>\n",
       "                        <td id=\"T_56f1e0d0_79e1_11eb_af06_4074e09d04f8row3_col8\" class=\"data row3 col8\" >31224790.856997</td>\n",
       "                        <td id=\"T_56f1e0d0_79e1_11eb_af06_4074e09d04f8row3_col9\" class=\"data row3 col9\" >499.000000</td>\n",
       "            </tr>\n",
       "            <tr>\n",
       "                        <th id=\"T_56f1e0d0_79e1_11eb_af06_4074e09d04f8level0_row4\" class=\"row_heading level0 row4\" >Super Size Me</th>\n",
       "                        <td id=\"T_56f1e0d0_79e1_11eb_af06_4074e09d04f8row4_col0\" class=\"data row4 col0\" >Morgan Spurlock</td>\n",
       "                        <td id=\"T_56f1e0d0_79e1_11eb_af06_4074e09d04f8row4_col1\" class=\"data row4 col1\" >75038.950988</td>\n",
       "                        <td id=\"T_56f1e0d0_79e1_11eb_af06_4074e09d04f8row4_col2\" class=\"data row4 col2\" >32988367.346373</td>\n",
       "                        <td id=\"T_56f1e0d0_79e1_11eb_af06_4074e09d04f8row4_col3\" class=\"data row4 col3\" >Documentary</td>\n",
       "                        <td id=\"T_56f1e0d0_79e1_11eb_af06_4074e09d04f8row4_col4\" class=\"data row4 col4\" >Comedy</td>\n",
       "                        <td id=\"T_56f1e0d0_79e1_11eb_af06_4074e09d04f8row4_col5\" class=\"data row4 col5\" >Drama</td>\n",
       "                        <td id=\"T_56f1e0d0_79e1_11eb_af06_4074e09d04f8row4_col6\" class=\"data row4 col6\" >None</td>\n",
       "                        <td id=\"T_56f1e0d0_79e1_11eb_af06_4074e09d04f8row4_col7\" class=\"data row4 col7\" >None</td>\n",
       "                        <td id=\"T_56f1e0d0_79e1_11eb_af06_4074e09d04f8row4_col8\" class=\"data row4 col8\" >32913328.395386</td>\n",
       "                        <td id=\"T_56f1e0d0_79e1_11eb_af06_4074e09d04f8row4_col9\" class=\"data row4 col9\" >438.616585</td>\n",
       "            </tr>\n",
       "            <tr>\n",
       "                        <th id=\"T_56f1e0d0_79e1_11eb_af06_4074e09d04f8level0_row5\" class=\"row_heading level0 row5\" >The Gallows</th>\n",
       "                        <td id=\"T_56f1e0d0_79e1_11eb_af06_4074e09d04f8row5_col0\" class=\"data row5 col0\" >Travis Cluff|Chris Lofing</td>\n",
       "                        <td id=\"T_56f1e0d0_79e1_11eb_af06_4074e09d04f8row5_col1\" class=\"data row5 col1\" >91999.959520</td>\n",
       "                        <td id=\"T_56f1e0d0_79e1_11eb_af06_4074e09d04f8row5_col2\" class=\"data row5 col2\" >39251239.929454</td>\n",
       "                        <td id=\"T_56f1e0d0_79e1_11eb_af06_4074e09d04f8row5_col3\" class=\"data row5 col3\" >Horror</td>\n",
       "                        <td id=\"T_56f1e0d0_79e1_11eb_af06_4074e09d04f8row5_col4\" class=\"data row5 col4\" >Thriller</td>\n",
       "                        <td id=\"T_56f1e0d0_79e1_11eb_af06_4074e09d04f8row5_col5\" class=\"data row5 col5\" >None</td>\n",
       "                        <td id=\"T_56f1e0d0_79e1_11eb_af06_4074e09d04f8row5_col6\" class=\"data row5 col6\" >None</td>\n",
       "                        <td id=\"T_56f1e0d0_79e1_11eb_af06_4074e09d04f8row5_col7\" class=\"data row5 col7\" >None</td>\n",
       "                        <td id=\"T_56f1e0d0_79e1_11eb_af06_4074e09d04f8row5_col8\" class=\"data row5 col8\" >39159239.969934</td>\n",
       "                        <td id=\"T_56f1e0d0_79e1_11eb_af06_4074e09d04f8row5_col9\" class=\"data row5 col9\" >425.644100</td>\n",
       "            </tr>\n",
       "            <tr>\n",
       "                        <th id=\"T_56f1e0d0_79e1_11eb_af06_4074e09d04f8level0_row6\" class=\"row_heading level0 row6\" >Open Water</th>\n",
       "                        <td id=\"T_56f1e0d0_79e1_11eb_af06_4074e09d04f8row6_col0\" class=\"data row6 col0\" >Chris Kentis</td>\n",
       "                        <td id=\"T_56f1e0d0_79e1_11eb_af06_4074e09d04f8row6_col1\" class=\"data row6 col1\" >150077.901976</td>\n",
       "                        <td id=\"T_56f1e0d0_79e1_11eb_af06_4074e09d04f8row6_col2\" class=\"data row6 col2\" >63111168.012442</td>\n",
       "                        <td id=\"T_56f1e0d0_79e1_11eb_af06_4074e09d04f8row6_col3\" class=\"data row6 col3\" >Drama</td>\n",
       "                        <td id=\"T_56f1e0d0_79e1_11eb_af06_4074e09d04f8row6_col4\" class=\"data row6 col4\" >Thriller</td>\n",
       "                        <td id=\"T_56f1e0d0_79e1_11eb_af06_4074e09d04f8row6_col5\" class=\"data row6 col5\" >None</td>\n",
       "                        <td id=\"T_56f1e0d0_79e1_11eb_af06_4074e09d04f8row6_col6\" class=\"data row6 col6\" >None</td>\n",
       "                        <td id=\"T_56f1e0d0_79e1_11eb_af06_4074e09d04f8row6_col7\" class=\"data row6 col7\" >None</td>\n",
       "                        <td id=\"T_56f1e0d0_79e1_11eb_af06_4074e09d04f8row6_col8\" class=\"data row6 col8\" >62961090.110467</td>\n",
       "                        <td id=\"T_56f1e0d0_79e1_11eb_af06_4074e09d04f8row6_col9\" class=\"data row6 col9\" >419.522723</td>\n",
       "            </tr>\n",
       "            <tr>\n",
       "                        <th id=\"T_56f1e0d0_79e1_11eb_af06_4074e09d04f8level0_row7\" class=\"row_heading level0 row7\" >The Texas Chain Saw Massacre</th>\n",
       "                        <td id=\"T_56f1e0d0_79e1_11eb_af06_4074e09d04f8row7_col0\" class=\"data row7 col0\" >Tobe Hooper</td>\n",
       "                        <td id=\"T_56f1e0d0_79e1_11eb_af06_4074e09d04f8row7_col1\" class=\"data row7 col1\" >375894.130524</td>\n",
       "                        <td id=\"T_56f1e0d0_79e1_11eb_af06_4074e09d04f8row7_col2\" class=\"data row7 col2\" >136467258.515660</td>\n",
       "                        <td id=\"T_56f1e0d0_79e1_11eb_af06_4074e09d04f8row7_col3\" class=\"data row7 col3\" >Horror</td>\n",
       "                        <td id=\"T_56f1e0d0_79e1_11eb_af06_4074e09d04f8row7_col4\" class=\"data row7 col4\" >Thriller</td>\n",
       "                        <td id=\"T_56f1e0d0_79e1_11eb_af06_4074e09d04f8row7_col5\" class=\"data row7 col5\" >None</td>\n",
       "                        <td id=\"T_56f1e0d0_79e1_11eb_af06_4074e09d04f8row7_col6\" class=\"data row7 col6\" >None</td>\n",
       "                        <td id=\"T_56f1e0d0_79e1_11eb_af06_4074e09d04f8row7_col7\" class=\"data row7 col7\" >None</td>\n",
       "                        <td id=\"T_56f1e0d0_79e1_11eb_af06_4074e09d04f8row7_col8\" class=\"data row7 col8\" >136091364.385136</td>\n",
       "                        <td id=\"T_56f1e0d0_79e1_11eb_af06_4074e09d04f8row7_col9\" class=\"data row7 col9\" >362.047059</td>\n",
       "            </tr>\n",
       "            <tr>\n",
       "                        <th id=\"T_56f1e0d0_79e1_11eb_af06_4074e09d04f8level0_row8\" class=\"row_heading level0 row8\" >Mad Max</th>\n",
       "                        <td id=\"T_56f1e0d0_79e1_11eb_af06_4074e09d04f8row8_col0\" class=\"data row8 col0\" >George Miller</td>\n",
       "                        <td id=\"T_56f1e0d0_79e1_11eb_af06_4074e09d04f8row8_col1\" class=\"data row8 col1\" >1201821.601001</td>\n",
       "                        <td id=\"T_56f1e0d0_79e1_11eb_af06_4074e09d04f8row8_col2\" class=\"data row8 col2\" >300455400.250159</td>\n",
       "                        <td id=\"T_56f1e0d0_79e1_11eb_af06_4074e09d04f8row8_col3\" class=\"data row8 col3\" >Adventure</td>\n",
       "                        <td id=\"T_56f1e0d0_79e1_11eb_af06_4074e09d04f8row8_col4\" class=\"data row8 col4\" >Action</td>\n",
       "                        <td id=\"T_56f1e0d0_79e1_11eb_af06_4074e09d04f8row8_col5\" class=\"data row8 col5\" >Thriller</td>\n",
       "                        <td id=\"T_56f1e0d0_79e1_11eb_af06_4074e09d04f8row8_col6\" class=\"data row8 col6\" >Science Fiction</td>\n",
       "                        <td id=\"T_56f1e0d0_79e1_11eb_af06_4074e09d04f8row8_col7\" class=\"data row8 col7\" >None</td>\n",
       "                        <td id=\"T_56f1e0d0_79e1_11eb_af06_4074e09d04f8row8_col8\" class=\"data row8 col8\" >299253578.649158</td>\n",
       "                        <td id=\"T_56f1e0d0_79e1_11eb_af06_4074e09d04f8row8_col9\" class=\"data row8 col9\" >249.000000</td>\n",
       "            </tr>\n",
       "            <tr>\n",
       "                        <th id=\"T_56f1e0d0_79e1_11eb_af06_4074e09d04f8level0_row9\" class=\"row_heading level0 row9\" >Halloween</th>\n",
       "                        <td id=\"T_56f1e0d0_79e1_11eb_af06_4074e09d04f8row9_col0\" class=\"data row9 col0\" >John Carpenter</td>\n",
       "                        <td id=\"T_56f1e0d0_79e1_11eb_af06_4074e09d04f8row9_col1\" class=\"data row9 col1\" >1002810.208474</td>\n",
       "                        <td id=\"T_56f1e0d0_79e1_11eb_af06_4074e09d04f8row9_col2\" class=\"data row9 col2\" >233989048.643983</td>\n",
       "                        <td id=\"T_56f1e0d0_79e1_11eb_af06_4074e09d04f8row9_col3\" class=\"data row9 col3\" >Horror</td>\n",
       "                        <td id=\"T_56f1e0d0_79e1_11eb_af06_4074e09d04f8row9_col4\" class=\"data row9 col4\" >Thriller</td>\n",
       "                        <td id=\"T_56f1e0d0_79e1_11eb_af06_4074e09d04f8row9_col5\" class=\"data row9 col5\" >None</td>\n",
       "                        <td id=\"T_56f1e0d0_79e1_11eb_af06_4074e09d04f8row9_col6\" class=\"data row9 col6\" >None</td>\n",
       "                        <td id=\"T_56f1e0d0_79e1_11eb_af06_4074e09d04f8row9_col7\" class=\"data row9 col7\" >None</td>\n",
       "                        <td id=\"T_56f1e0d0_79e1_11eb_af06_4074e09d04f8row9_col8\" class=\"data row9 col8\" >232986238.435509</td>\n",
       "                        <td id=\"T_56f1e0d0_79e1_11eb_af06_4074e09d04f8row9_col9\" class=\"data row9 col9\" >232.333333</td>\n",
       "            </tr>\n",
       "    </tbody></table>"
      ],
      "text/plain": [
       "<pandas.io.formats.style.Styler at 0x26a6378d408>"
      ]
     },
     "execution_count": 68,
     "metadata": {},
     "output_type": "execute_result"
    }
   ],
   "source": [
    "def highlight_genre(val):\n",
    "    color = 'red' if val == 'Horror' else 'black'\n",
    "    return 'color: %s' % color\n",
    "\n",
    "r = movies_outliers_top10.style.applymap(highlight_genre)\n",
    "\n",
    "r"
   ]
  },
  {
   "cell_type": "markdown",
   "metadata": {},
   "source": [
    "<a id='eda4'></a>\n",
    "### Research Question 4\n",
    "**1. Which the main features that make a particular movie very profitable?**"
   ]
  },
  {
   "cell_type": "markdown",
   "metadata": {},
   "source": [
    "For this question we will try to get positive correlations from scatter plots using the `revenue_adj variable`"
   ]
  },
  {
   "cell_type": "code",
   "execution_count": 69,
   "metadata": {},
   "outputs": [],
   "source": [
    "movies_sum = movies[['original_title','runtime','popularity','vote_average','revenue_adj']]"
   ]
  },
  {
   "cell_type": "code",
   "execution_count": 70,
   "metadata": {},
   "outputs": [],
   "source": [
    "movies_sum.set_index('original_title', inplace=True)"
   ]
  },
  {
   "cell_type": "code",
   "execution_count": 71,
   "metadata": {
    "scrolled": false
   },
   "outputs": [
    {
     "data": {
      "text/plain": [
       "''"
      ]
     },
     "execution_count": 71,
     "metadata": {},
     "output_type": "execute_result"
    },
    {
     "data": {
      "image/png": "[encoded data removed]",
      "text/plain": [
       "<Figure size 576x576 with 1 Axes>"
      ]
     },
     "metadata": {
      "needs_background": "light"
     },
     "output_type": "display_data"
    },
    {
     "data": {
      "image/png": "[encoded data removed]",
      "text/plain": [
       "<Figure size 576x576 with 1 Axes>"
      ]
     },
     "metadata": {
      "needs_background": "light"
     },
     "output_type": "display_data"
    },
    {
     "data": {
      "image/png": "[encoded data removed]",
      "text/plain": [
       "<Figure size 576x576 with 1 Axes>"
      ]
     },
     "metadata": {
      "needs_background": "light"
     },
     "output_type": "display_data"
    }
   ],
   "source": [
    "movies_sum.plot(kind='scatter', x='popularity', y='revenue_adj', s=50, figsize=(8,8))\n",
    "plt.xlabel('Popularity', fontsize=14)\n",
    "plt.ylabel('Revenue', fontsize=14)\n",
    "plt.title('Correlation betweeen popularity and revenue', fontsize=16)\n",
    "plt.xlim(0,20)\n",
    ";\n",
    "\n",
    "movies_sum.plot(kind='scatter', x='runtime', y='revenue_adj', s=50, figsize=(8,8))\n",
    "plt.xlabel('Runtime', fontsize=14)\n",
    "plt.ylabel('Revenue', fontsize=14)\n",
    "plt.title('Correlation betweeen runtime and revenue', fontsize=16)\n",
    "plt.xlim(60,300)\n",
    ";\n",
    "\n",
    "movies_sum.plot(kind='scatter', x='vote_average', y='revenue_adj', s=50, figsize=(8,8))\n",
    "plt.xlabel('Vote Average', fontsize=14)\n",
    "plt.ylabel('Revenue', fontsize=14)\n",
    "plt.title('Correlation betweeen vote average and revenue', fontsize=16)\n",
    "plt.xlim(3,9)\n",
    ";"
   ]
  },
  {
   "cell_type": "markdown",
   "metadata": {},
   "source": [
    "When analyzing movies individualy, I have focus on three different variables that could correlate with revenue. In this case I found that the popularity correlates very slightly (almost nothing) with revenue, so that the movies with higher revenue tend ot be slightly more popular than the ones with lower revenues.\n",
    "I found that runtime correlates slightly more, as movies with higher durations tend to get higher revenues. But that is still not a clear positive correlation.\n",
    "The variable that has a more clear positive correlation is vote_average, movies with higher vote averages tend \n"
   ]
  },
  {
   "cell_type": "markdown",
   "metadata": {},
   "source": [
    "<a id='conc'></a>\n",
    "### Conclusions"
   ]
  },
  {
   "cell_type": "markdown",
   "metadata": {},
   "source": [
    "#### Discussion about limitations"
   ]
  },
  {
   "cell_type": "markdown",
   "metadata": {},
   "source": [
    "The dataset has been sufficient to prove my findings, all the variables that I wanted to check were present and even though I had to perform some manual operations in the data wrangling section I am happy with the overall result. The only field that I missed is one related to the movie's production country as this is the first question that came to my mind from this dataframe was to analyze the vote average of movies from both United States and the rest of the world, and then cross check this results with other variables such as revenue.\n",
    "    \n",
    "In terms of missing values I found the analysis quite compromised when I had to remove the null values for all movies that have values set to 0 in columns such as budget and revenue. By doing this the dataframe was cutted in half and I felt like my analysis was not entirely solid in any questions such as the analysis of the popularity of the TOP5 genres through time. A lot of gaps are observed in this chart and the moving averages look more 'sharply shaped' than expected due to the lack of data.\n",
    "\n",
    "For the data to be presented in a cleaner way it would have been ideal to have in advance all 4 genre column instead of an unique column with all the genres separated by pipes."
   ]
  },
  {
   "cell_type": "markdown",
   "metadata": {},
   "source": [
    "#### Final results/conclusions"
   ]
  },
  {
   "cell_type": "markdown",
   "metadata": {},
   "source": [
    "**1. No correlation between popularity and good vote averages**\n",
    "At a first glance it looks like popularity and high voting for a movie are positively correlated variables to some extend but I found out that the most popular movies do not have to be the ones getting the most outstanding votes, specially when taking into account the most popular genres, such as `Fantasy, Adventures, Science Fiction` these genres even though being the most popular are located in the bottom part of the distribution when considering average voting\n",
    "\n",
    "**2. Popularity of genres through time is tied to the popularity of certain movies/sagas**\n",
    "When looking at the results for the most popular genres, there are some peaks in popularity that can be directly associated to certain movies and sagas. The one that caught my attention was the one for `animation` in the early 90's, directly associated to movies such as Lion King and Toy Story. A single or very few, very succesfull and popular movies can make the overall popularity of the genre pike for quite a long period of time.\n",
    "\n",
    "**3. Horror movies are the most profitable ones**\n",
    "When considering the `Times profit over Budget` metric (a movie getting a return in profit that is **x amount of times higher than its budget**), horror movies are the ones that appear in the firsts positions. The profile of this type of movie is independent movies with very low initial budget that gain a lot of popularity and returned a profit a lot of times higher that the budget. The most notorious examples are The Blair Witch Project and Paranormal Activity\n",
    "\n",
    "**4. Most profitable directors are also among the highest rated**\n",
    "When analyzing who are the most profitable directors, knowing in advance that these directors produce movies from genres not specially good rated in general (point 1 of this conclusions), I have assumed that profitability was not correlated with high vote averages, but is actually quite the contrary, all top directors in terms of profitability obtain vote averages higher than the mean for all directors"
   ]
  },
  {
   "cell_type": "code",
   "execution_count": null,
   "metadata": {},
   "outputs": [],
   "source": []
  }
 ],
 "metadata": {
  "kernelspec": {
   "display_name": "Python 3",
   "language": "python",
   "name": "python3"
  },
  "language_info": {
   "codemirror_mode": {
    "name": "ipython",
    "version": 3
   },
   "file_extension": ".py",
   "mimetype": "text/x-python",
   "name": "python",
   "nbconvert_exporter": "python",
   "pygments_lexer": "ipython3",
   "version": "3.7.6"
  }
 },
 "nbformat": 4,
 "nbformat_minor": 4
}
